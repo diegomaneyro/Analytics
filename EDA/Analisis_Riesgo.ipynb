{
  "cells": [
    {
      "cell_type": "markdown",
      "metadata": {
        "id": "C7U374wR03A4"
      },
      "source": [
        "$$\n",
        "AnalisisRiesgo\n",
        "$$"
      ]
    },
    {
      "cell_type": "code",
      "execution_count": null,
      "metadata": {
        "id": "c16uylFp6xMm"
      },
      "outputs": [],
      "source": [
        "pip install --upgrade yfinance\n",
        "# Importar librerias necesarias\n",
        "import yfinance as yf\n",
        "import pandas as pd\n",
        "import matplotlib.pyplot as plt\n",
        "import seaborn as sns\n",
        "from datetime import datetime, timedelta"
      ]
    },
    {
      "cell_type": "markdown",
      "metadata": {
        "id": "tUnGx1yAZa9Q"
      },
      "source": []
    },
    {
      "cell_type": "code",
      "execution_count": 70,
      "metadata": {
        "colab": {
          "base_uri": "https://localhost:8080/",
          "height": 442
        },
        "id": "dyRql6rdXXjQ",
        "outputId": "e295549e-4019-4473-fec5-f218876fcc85"
      },
      "outputs": [
        {
          "name": "stdout",
          "output_type": "stream",
          "text": [
            "[*********************100%***********************]  4 of 4 completed\n"
          ]
        },
        {
          "data": {
            "text/html": [
              "\n",
              "  <div id=\"df-179d0714-73e8-4ce6-b6f9-68a3cd1409c0\">\n",
              "    <div class=\"colab-df-container\">\n",
              "      <div>\n",
              "<style scoped>\n",
              "    .dataframe tbody tr th:only-of-type {\n",
              "        vertical-align: middle;\n",
              "    }\n",
              "\n",
              "    .dataframe tbody tr th {\n",
              "        vertical-align: top;\n",
              "    }\n",
              "\n",
              "    .dataframe thead tr th {\n",
              "        text-align: left;\n",
              "    }\n",
              "</style>\n",
              "<table border=\"1\" class=\"dataframe\">\n",
              "  <thead>\n",
              "    <tr>\n",
              "      <th></th>\n",
              "      <th colspan=\"6\" halign=\"left\">AMZN</th>\n",
              "      <th colspan=\"4\" halign=\"left\">MSFT</th>\n",
              "      <th>...</th>\n",
              "      <th colspan=\"4\" halign=\"left\">GOOGL</th>\n",
              "      <th colspan=\"6\" halign=\"left\">AAPL</th>\n",
              "    </tr>\n",
              "    <tr>\n",
              "      <th></th>\n",
              "      <th>Open</th>\n",
              "      <th>High</th>\n",
              "      <th>Low</th>\n",
              "      <th>Close</th>\n",
              "      <th>Adj Close</th>\n",
              "      <th>Volume</th>\n",
              "      <th>Open</th>\n",
              "      <th>High</th>\n",
              "      <th>Low</th>\n",
              "      <th>Close</th>\n",
              "      <th>...</th>\n",
              "      <th>Low</th>\n",
              "      <th>Close</th>\n",
              "      <th>Adj Close</th>\n",
              "      <th>Volume</th>\n",
              "      <th>Open</th>\n",
              "      <th>High</th>\n",
              "      <th>Low</th>\n",
              "      <th>Close</th>\n",
              "      <th>Adj Close</th>\n",
              "      <th>Volume</th>\n",
              "    </tr>\n",
              "  </thead>\n",
              "  <tbody>\n",
              "    <tr>\n",
              "      <th>count</th>\n",
              "      <td>5844.000000</td>\n",
              "      <td>5844.000000</td>\n",
              "      <td>5844.000000</td>\n",
              "      <td>5844.000000</td>\n",
              "      <td>5844.000000</td>\n",
              "      <td>5.844000e+03</td>\n",
              "      <td>5844.000000</td>\n",
              "      <td>5844.000000</td>\n",
              "      <td>5844.000000</td>\n",
              "      <td>5844.000000</td>\n",
              "      <td>...</td>\n",
              "      <td>4682.000000</td>\n",
              "      <td>4682.000000</td>\n",
              "      <td>4682.000000</td>\n",
              "      <td>4.682000e+03</td>\n",
              "      <td>5844.000000</td>\n",
              "      <td>5844.000000</td>\n",
              "      <td>5844.000000</td>\n",
              "      <td>5844.000000</td>\n",
              "      <td>5844.000000</td>\n",
              "      <td>5.844000e+03</td>\n",
              "    </tr>\n",
              "    <tr>\n",
              "      <th>mean</th>\n",
              "      <td>34.920844</td>\n",
              "      <td>35.336365</td>\n",
              "      <td>34.464090</td>\n",
              "      <td>34.908127</td>\n",
              "      <td>34.908127</td>\n",
              "      <td>1.239225e+08</td>\n",
              "      <td>70.641920</td>\n",
              "      <td>71.391407</td>\n",
              "      <td>69.877898</td>\n",
              "      <td>70.658048</td>\n",
              "      <td>...</td>\n",
              "      <td>38.051620</td>\n",
              "      <td>38.463167</td>\n",
              "      <td>38.463167</td>\n",
              "      <td>1.238642e+08</td>\n",
              "      <td>31.073044</td>\n",
              "      <td>31.428661</td>\n",
              "      <td>30.727090</td>\n",
              "      <td>31.091850</td>\n",
              "      <td>29.873595</td>\n",
              "      <td>4.109954e+08</td>\n",
              "    </tr>\n",
              "    <tr>\n",
              "      <th>std</th>\n",
              "      <td>49.591769</td>\n",
              "      <td>50.176634</td>\n",
              "      <td>48.937746</td>\n",
              "      <td>49.554469</td>\n",
              "      <td>49.554469</td>\n",
              "      <td>9.908163e+07</td>\n",
              "      <td>77.182797</td>\n",
              "      <td>77.996074</td>\n",
              "      <td>76.322563</td>\n",
              "      <td>77.205141</td>\n",
              "      <td>...</td>\n",
              "      <td>34.950990</td>\n",
              "      <td>35.353357</td>\n",
              "      <td>35.353357</td>\n",
              "      <td>1.511491e+08</td>\n",
              "      <td>44.427505</td>\n",
              "      <td>44.981135</td>\n",
              "      <td>43.905516</td>\n",
              "      <td>44.467150</td>\n",
              "      <td>44.300856</td>\n",
              "      <td>3.866910e+08</td>\n",
              "    </tr>\n",
              "    <tr>\n",
              "      <th>min</th>\n",
              "      <td>0.295500</td>\n",
              "      <td>0.305000</td>\n",
              "      <td>0.275500</td>\n",
              "      <td>0.298500</td>\n",
              "      <td>0.298500</td>\n",
              "      <td>1.762600e+07</td>\n",
              "      <td>15.200000</td>\n",
              "      <td>15.620000</td>\n",
              "      <td>14.870000</td>\n",
              "      <td>15.150000</td>\n",
              "      <td>...</td>\n",
              "      <td>2.401401</td>\n",
              "      <td>2.502753</td>\n",
              "      <td>2.502753</td>\n",
              "      <td>9.312000e+06</td>\n",
              "      <td>0.231964</td>\n",
              "      <td>0.235536</td>\n",
              "      <td>0.227143</td>\n",
              "      <td>0.234286</td>\n",
              "      <td>0.199405</td>\n",
              "      <td>3.519590e+07</td>\n",
              "    </tr>\n",
              "    <tr>\n",
              "      <th>25%</th>\n",
              "      <td>2.209469</td>\n",
              "      <td>2.254125</td>\n",
              "      <td>2.175000</td>\n",
              "      <td>2.222500</td>\n",
              "      <td>2.222500</td>\n",
              "      <td>6.790850e+07</td>\n",
              "      <td>26.969999</td>\n",
              "      <td>27.230000</td>\n",
              "      <td>26.730000</td>\n",
              "      <td>26.977499</td>\n",
              "      <td>...</td>\n",
              "      <td>12.551301</td>\n",
              "      <td>12.708772</td>\n",
              "      <td>12.708772</td>\n",
              "      <td>3.296130e+07</td>\n",
              "      <td>1.938839</td>\n",
              "      <td>1.966072</td>\n",
              "      <td>1.907232</td>\n",
              "      <td>1.931250</td>\n",
              "      <td>1.643722</td>\n",
              "      <td>1.381909e+08</td>\n",
              "    </tr>\n",
              "    <tr>\n",
              "      <th>50%</th>\n",
              "      <td>9.456500</td>\n",
              "      <td>9.583250</td>\n",
              "      <td>9.311750</td>\n",
              "      <td>9.457000</td>\n",
              "      <td>9.457000</td>\n",
              "      <td>1.015310e+08</td>\n",
              "      <td>31.804999</td>\n",
              "      <td>32.153126</td>\n",
              "      <td>31.452500</td>\n",
              "      <td>31.845000</td>\n",
              "      <td>...</td>\n",
              "      <td>25.565413</td>\n",
              "      <td>25.791145</td>\n",
              "      <td>25.791145</td>\n",
              "      <td>6.886906e+07</td>\n",
              "      <td>13.356785</td>\n",
              "      <td>13.546428</td>\n",
              "      <td>13.230893</td>\n",
              "      <td>13.411785</td>\n",
              "      <td>11.415017</td>\n",
              "      <td>2.939776e+08</td>\n",
              "    </tr>\n",
              "    <tr>\n",
              "      <th>75%</th>\n",
              "      <td>47.925251</td>\n",
              "      <td>48.249001</td>\n",
              "      <td>47.554749</td>\n",
              "      <td>47.905876</td>\n",
              "      <td>47.905876</td>\n",
              "      <td>1.479545e+08</td>\n",
              "      <td>69.342501</td>\n",
              "      <td>69.849997</td>\n",
              "      <td>68.792501</td>\n",
              "      <td>69.500000</td>\n",
              "      <td>...</td>\n",
              "      <td>54.204248</td>\n",
              "      <td>54.941876</td>\n",
              "      <td>54.941876</td>\n",
              "      <td>1.520238e+08</td>\n",
              "      <td>36.696874</td>\n",
              "      <td>36.911875</td>\n",
              "      <td>36.301874</td>\n",
              "      <td>36.662499</td>\n",
              "      <td>34.510949</td>\n",
              "      <td>5.475960e+08</td>\n",
              "    </tr>\n",
              "    <tr>\n",
              "      <th>max</th>\n",
              "      <td>187.199997</td>\n",
              "      <td>188.654007</td>\n",
              "      <td>184.839493</td>\n",
              "      <td>186.570496</td>\n",
              "      <td>186.570496</td>\n",
              "      <td>2.086584e+09</td>\n",
              "      <td>344.619995</td>\n",
              "      <td>349.670013</td>\n",
              "      <td>342.200012</td>\n",
              "      <td>343.109985</td>\n",
              "      <td>...</td>\n",
              "      <td>148.899002</td>\n",
              "      <td>149.838501</td>\n",
              "      <td>149.838501</td>\n",
              "      <td>1.643023e+09</td>\n",
              "      <td>182.630005</td>\n",
              "      <td>182.940002</td>\n",
              "      <td>179.119995</td>\n",
              "      <td>182.009995</td>\n",
              "      <td>180.683853</td>\n",
              "      <td>7.421641e+09</td>\n",
              "    </tr>\n",
              "  </tbody>\n",
              "</table>\n",
              "<p>8 rows × 24 columns</p>\n",
              "</div>\n",
              "      <button class=\"colab-df-convert\" onclick=\"convertToInteractive('df-179d0714-73e8-4ce6-b6f9-68a3cd1409c0')\"\n",
              "              title=\"Convert this dataframe to an interactive table.\"\n",
              "              style=\"display:none;\">\n",
              "        \n",
              "  <svg xmlns=\"http://www.w3.org/2000/svg\" height=\"24px\"viewBox=\"0 0 24 24\"\n",
              "       width=\"24px\">\n",
              "    <path d=\"M0 0h24v24H0V0z\" fill=\"none\"/>\n",
              "    <path d=\"M18.56 5.44l.94 2.06.94-2.06 2.06-.94-2.06-.94-.94-2.06-.94 2.06-2.06.94zm-11 1L8.5 8.5l.94-2.06 2.06-.94-2.06-.94L8.5 2.5l-.94 2.06-2.06.94zm10 10l.94 2.06.94-2.06 2.06-.94-2.06-.94-.94-2.06-.94 2.06-2.06.94z\"/><path d=\"M17.41 7.96l-1.37-1.37c-.4-.4-.92-.59-1.43-.59-.52 0-1.04.2-1.43.59L10.3 9.45l-7.72 7.72c-.78.78-.78 2.05 0 2.83L4 21.41c.39.39.9.59 1.41.59.51 0 1.02-.2 1.41-.59l7.78-7.78 2.81-2.81c.8-.78.8-2.07 0-2.86zM5.41 20L4 18.59l7.72-7.72 1.47 1.35L5.41 20z\"/>\n",
              "  </svg>\n",
              "      </button>\n",
              "      \n",
              "  <style>\n",
              "    .colab-df-container {\n",
              "      display:flex;\n",
              "      flex-wrap:wrap;\n",
              "      gap: 12px;\n",
              "    }\n",
              "\n",
              "    .colab-df-convert {\n",
              "      background-color: #E8F0FE;\n",
              "      border: none;\n",
              "      border-radius: 50%;\n",
              "      cursor: pointer;\n",
              "      display: none;\n",
              "      fill: #1967D2;\n",
              "      height: 32px;\n",
              "      padding: 0 0 0 0;\n",
              "      width: 32px;\n",
              "    }\n",
              "\n",
              "    .colab-df-convert:hover {\n",
              "      background-color: #E2EBFA;\n",
              "      box-shadow: 0px 1px 2px rgba(60, 64, 67, 0.3), 0px 1px 3px 1px rgba(60, 64, 67, 0.15);\n",
              "      fill: #174EA6;\n",
              "    }\n",
              "\n",
              "    [theme=dark] .colab-df-convert {\n",
              "      background-color: #3B4455;\n",
              "      fill: #D2E3FC;\n",
              "    }\n",
              "\n",
              "    [theme=dark] .colab-df-convert:hover {\n",
              "      background-color: #434B5C;\n",
              "      box-shadow: 0px 1px 3px 1px rgba(0, 0, 0, 0.15);\n",
              "      filter: drop-shadow(0px 1px 2px rgba(0, 0, 0, 0.3));\n",
              "      fill: #FFFFFF;\n",
              "    }\n",
              "  </style>\n",
              "\n",
              "      <script>\n",
              "        const buttonEl =\n",
              "          document.querySelector('#df-179d0714-73e8-4ce6-b6f9-68a3cd1409c0 button.colab-df-convert');\n",
              "        buttonEl.style.display =\n",
              "          google.colab.kernel.accessAllowed ? 'block' : 'none';\n",
              "\n",
              "        async function convertToInteractive(key) {\n",
              "          const element = document.querySelector('#df-179d0714-73e8-4ce6-b6f9-68a3cd1409c0');\n",
              "          const dataTable =\n",
              "            await google.colab.kernel.invokeFunction('convertToInteractive',\n",
              "                                                     [key], {});\n",
              "          if (!dataTable) return;\n",
              "\n",
              "          const docLinkHtml = 'Like what you see? Visit the ' +\n",
              "            '<a target=\"_blank\" href=https://colab.research.google.com/notebooks/data_table.ipynb>data table notebook</a>'\n",
              "            + ' to learn more about interactive tables.';\n",
              "          element.innerHTML = '';\n",
              "          dataTable['output_type'] = 'display_data';\n",
              "          await google.colab.output.renderOutput(dataTable, element);\n",
              "          const docLink = document.createElement('div');\n",
              "          docLink.innerHTML = docLinkHtml;\n",
              "          element.appendChild(docLink);\n",
              "        }\n",
              "      </script>\n",
              "    </div>\n",
              "  </div>\n",
              "  "
            ],
            "text/plain": [
              "              AMZN                                                      \\\n",
              "              Open         High          Low        Close    Adj Close   \n",
              "count  5844.000000  5844.000000  5844.000000  5844.000000  5844.000000   \n",
              "mean     34.920844    35.336365    34.464090    34.908127    34.908127   \n",
              "std      49.591769    50.176634    48.937746    49.554469    49.554469   \n",
              "min       0.295500     0.305000     0.275500     0.298500     0.298500   \n",
              "25%       2.209469     2.254125     2.175000     2.222500     2.222500   \n",
              "50%       9.456500     9.583250     9.311750     9.457000     9.457000   \n",
              "75%      47.925251    48.249001    47.554749    47.905876    47.905876   \n",
              "max     187.199997   188.654007   184.839493   186.570496   186.570496   \n",
              "\n",
              "                            MSFT                                         ...  \\\n",
              "             Volume         Open         High          Low        Close  ...   \n",
              "count  5.844000e+03  5844.000000  5844.000000  5844.000000  5844.000000  ...   \n",
              "mean   1.239225e+08    70.641920    71.391407    69.877898    70.658048  ...   \n",
              "std    9.908163e+07    77.182797    77.996074    76.322563    77.205141  ...   \n",
              "min    1.762600e+07    15.200000    15.620000    14.870000    15.150000  ...   \n",
              "25%    6.790850e+07    26.969999    27.230000    26.730000    26.977499  ...   \n",
              "50%    1.015310e+08    31.804999    32.153126    31.452500    31.845000  ...   \n",
              "75%    1.479545e+08    69.342501    69.849997    68.792501    69.500000  ...   \n",
              "max    2.086584e+09   344.619995   349.670013   342.200012   343.109985  ...   \n",
              "\n",
              "             GOOGL                                                 AAPL  \\\n",
              "               Low        Close    Adj Close        Volume         Open   \n",
              "count  4682.000000  4682.000000  4682.000000  4.682000e+03  5844.000000   \n",
              "mean     38.051620    38.463167    38.463167  1.238642e+08    31.073044   \n",
              "std      34.950990    35.353357    35.353357  1.511491e+08    44.427505   \n",
              "min       2.401401     2.502753     2.502753  9.312000e+06     0.231964   \n",
              "25%      12.551301    12.708772    12.708772  3.296130e+07     1.938839   \n",
              "50%      25.565413    25.791145    25.791145  6.886906e+07    13.356785   \n",
              "75%      54.204248    54.941876    54.941876  1.520238e+08    36.696874   \n",
              "max     148.899002   149.838501   149.838501  1.643023e+09   182.630005   \n",
              "\n",
              "                                                                         \n",
              "              High          Low        Close    Adj Close        Volume  \n",
              "count  5844.000000  5844.000000  5844.000000  5844.000000  5.844000e+03  \n",
              "mean     31.428661    30.727090    31.091850    29.873595  4.109954e+08  \n",
              "std      44.981135    43.905516    44.467150    44.300856  3.866910e+08  \n",
              "min       0.235536     0.227143     0.234286     0.199405  3.519590e+07  \n",
              "25%       1.966072     1.907232     1.931250     1.643722  1.381909e+08  \n",
              "50%      13.546428    13.230893    13.411785    11.415017  2.939776e+08  \n",
              "75%      36.911875    36.301874    36.662499    34.510949  5.475960e+08  \n",
              "max     182.940002   179.119995   182.009995   180.683853  7.421641e+09  \n",
              "\n",
              "[8 rows x 24 columns]"
            ]
          },
          "execution_count": 70,
          "metadata": {},
          "output_type": "execute_result"
        }
      ],
      "source": [
        "# Datos posterior al año 2000 de amazon, apple, google, microsoft\n",
        "tickers = ['AMZN', 'AAPL', 'GOOGL', 'MSFT']\n",
        "start_date = '2000-01-01'\n",
        "\n",
        "df = yf.download(tickers, start=start_date, group_by='ticker')\n",
        "df.describe()\n"
      ]
    },
    {
      "cell_type": "markdown",
      "metadata": {
        "id": "yVBRmU1_zg1d"
      },
      "source": [
        "## Analisis financiero por Empresa"
      ]
    },
    {
      "cell_type": "markdown",
      "metadata": {
        "id": "p_zd7uOzck2y"
      },
      "source": [
        "### Apple historico de los ultimos 23 años"
      ]
    },
    {
      "cell_type": "code",
      "execution_count": 28,
      "metadata": {
        "colab": {
          "base_uri": "https://localhost:8080/",
          "height": 238
        },
        "id": "NNzTkn2N56TZ",
        "outputId": "33858439-091c-4a0f-84eb-c07b4f76a1ac"
      },
      "outputs": [
        {
          "data": {
            "text/html": [
              "\n",
              "  <div id=\"df-57474045-39ad-4df2-aca5-5168148afc38\">\n",
              "    <div class=\"colab-df-container\">\n",
              "      <div>\n",
              "<style scoped>\n",
              "    .dataframe tbody tr th:only-of-type {\n",
              "        vertical-align: middle;\n",
              "    }\n",
              "\n",
              "    .dataframe tbody tr th {\n",
              "        vertical-align: top;\n",
              "    }\n",
              "\n",
              "    .dataframe thead th {\n",
              "        text-align: right;\n",
              "    }\n",
              "</style>\n",
              "<table border=\"1\" class=\"dataframe\">\n",
              "  <thead>\n",
              "    <tr style=\"text-align: right;\">\n",
              "      <th></th>\n",
              "      <th>Open</th>\n",
              "      <th>High</th>\n",
              "      <th>Low</th>\n",
              "      <th>Close</th>\n",
              "      <th>Volume</th>\n",
              "      <th>Dividends</th>\n",
              "      <th>Stock Splits</th>\n",
              "    </tr>\n",
              "    <tr>\n",
              "      <th>Date</th>\n",
              "      <th></th>\n",
              "      <th></th>\n",
              "      <th></th>\n",
              "      <th></th>\n",
              "      <th></th>\n",
              "      <th></th>\n",
              "      <th></th>\n",
              "    </tr>\n",
              "  </thead>\n",
              "  <tbody>\n",
              "    <tr>\n",
              "      <th>2000-01-03 00:00:00-05:00</th>\n",
              "      <td>0.796974</td>\n",
              "      <td>0.854918</td>\n",
              "      <td>0.772751</td>\n",
              "      <td>0.850643</td>\n",
              "      <td>535796800</td>\n",
              "      <td>0.0</td>\n",
              "      <td>0.0</td>\n",
              "    </tr>\n",
              "    <tr>\n",
              "      <th>2000-01-04 00:00:00-05:00</th>\n",
              "      <td>0.822621</td>\n",
              "      <td>0.840669</td>\n",
              "      <td>0.768951</td>\n",
              "      <td>0.778926</td>\n",
              "      <td>512377600</td>\n",
              "      <td>0.0</td>\n",
              "      <td>0.0</td>\n",
              "    </tr>\n",
              "    <tr>\n",
              "      <th>2000-01-05 00:00:00-05:00</th>\n",
              "      <td>0.788424</td>\n",
              "      <td>0.840194</td>\n",
              "      <td>0.782725</td>\n",
              "      <td>0.790324</td>\n",
              "      <td>778321600</td>\n",
              "      <td>0.0</td>\n",
              "      <td>0.0</td>\n",
              "    </tr>\n",
              "    <tr>\n",
              "      <th>2000-01-06 00:00:00-05:00</th>\n",
              "      <td>0.806473</td>\n",
              "      <td>0.813122</td>\n",
              "      <td>0.721930</td>\n",
              "      <td>0.721930</td>\n",
              "      <td>767972800</td>\n",
              "      <td>0.0</td>\n",
              "      <td>0.0</td>\n",
              "    </tr>\n",
              "    <tr>\n",
              "      <th>2000-01-07 00:00:00-05:00</th>\n",
              "      <td>0.733329</td>\n",
              "      <td>0.767527</td>\n",
              "      <td>0.725731</td>\n",
              "      <td>0.756127</td>\n",
              "      <td>460734400</td>\n",
              "      <td>0.0</td>\n",
              "      <td>0.0</td>\n",
              "    </tr>\n",
              "  </tbody>\n",
              "</table>\n",
              "</div>\n",
              "      <button class=\"colab-df-convert\" onclick=\"convertToInteractive('df-57474045-39ad-4df2-aca5-5168148afc38')\"\n",
              "              title=\"Convert this dataframe to an interactive table.\"\n",
              "              style=\"display:none;\">\n",
              "        \n",
              "  <svg xmlns=\"http://www.w3.org/2000/svg\" height=\"24px\"viewBox=\"0 0 24 24\"\n",
              "       width=\"24px\">\n",
              "    <path d=\"M0 0h24v24H0V0z\" fill=\"none\"/>\n",
              "    <path d=\"M18.56 5.44l.94 2.06.94-2.06 2.06-.94-2.06-.94-.94-2.06-.94 2.06-2.06.94zm-11 1L8.5 8.5l.94-2.06 2.06-.94-2.06-.94L8.5 2.5l-.94 2.06-2.06.94zm10 10l.94 2.06.94-2.06 2.06-.94-2.06-.94-.94-2.06-.94 2.06-2.06.94z\"/><path d=\"M17.41 7.96l-1.37-1.37c-.4-.4-.92-.59-1.43-.59-.52 0-1.04.2-1.43.59L10.3 9.45l-7.72 7.72c-.78.78-.78 2.05 0 2.83L4 21.41c.39.39.9.59 1.41.59.51 0 1.02-.2 1.41-.59l7.78-7.78 2.81-2.81c.8-.78.8-2.07 0-2.86zM5.41 20L4 18.59l7.72-7.72 1.47 1.35L5.41 20z\"/>\n",
              "  </svg>\n",
              "      </button>\n",
              "      \n",
              "  <style>\n",
              "    .colab-df-container {\n",
              "      display:flex;\n",
              "      flex-wrap:wrap;\n",
              "      gap: 12px;\n",
              "    }\n",
              "\n",
              "    .colab-df-convert {\n",
              "      background-color: #E8F0FE;\n",
              "      border: none;\n",
              "      border-radius: 50%;\n",
              "      cursor: pointer;\n",
              "      display: none;\n",
              "      fill: #1967D2;\n",
              "      height: 32px;\n",
              "      padding: 0 0 0 0;\n",
              "      width: 32px;\n",
              "    }\n",
              "\n",
              "    .colab-df-convert:hover {\n",
              "      background-color: #E2EBFA;\n",
              "      box-shadow: 0px 1px 2px rgba(60, 64, 67, 0.3), 0px 1px 3px 1px rgba(60, 64, 67, 0.15);\n",
              "      fill: #174EA6;\n",
              "    }\n",
              "\n",
              "    [theme=dark] .colab-df-convert {\n",
              "      background-color: #3B4455;\n",
              "      fill: #D2E3FC;\n",
              "    }\n",
              "\n",
              "    [theme=dark] .colab-df-convert:hover {\n",
              "      background-color: #434B5C;\n",
              "      box-shadow: 0px 1px 3px 1px rgba(0, 0, 0, 0.15);\n",
              "      filter: drop-shadow(0px 1px 2px rgba(0, 0, 0, 0.3));\n",
              "      fill: #FFFFFF;\n",
              "    }\n",
              "  </style>\n",
              "\n",
              "      <script>\n",
              "        const buttonEl =\n",
              "          document.querySelector('#df-57474045-39ad-4df2-aca5-5168148afc38 button.colab-df-convert');\n",
              "        buttonEl.style.display =\n",
              "          google.colab.kernel.accessAllowed ? 'block' : 'none';\n",
              "\n",
              "        async function convertToInteractive(key) {\n",
              "          const element = document.querySelector('#df-57474045-39ad-4df2-aca5-5168148afc38');\n",
              "          const dataTable =\n",
              "            await google.colab.kernel.invokeFunction('convertToInteractive',\n",
              "                                                     [key], {});\n",
              "          if (!dataTable) return;\n",
              "\n",
              "          const docLinkHtml = 'Like what you see? Visit the ' +\n",
              "            '<a target=\"_blank\" href=https://colab.research.google.com/notebooks/data_table.ipynb>data table notebook</a>'\n",
              "            + ' to learn more about interactive tables.';\n",
              "          element.innerHTML = '';\n",
              "          dataTable['output_type'] = 'display_data';\n",
              "          await google.colab.output.renderOutput(dataTable, element);\n",
              "          const docLink = document.createElement('div');\n",
              "          docLink.innerHTML = docLinkHtml;\n",
              "          element.appendChild(docLink);\n",
              "        }\n",
              "      </script>\n",
              "    </div>\n",
              "  </div>\n",
              "  "
            ],
            "text/plain": [
              "                               Open      High       Low     Close     Volume  \\\n",
              "Date                                                                           \n",
              "2000-01-03 00:00:00-05:00  0.796974  0.854918  0.772751  0.850643  535796800   \n",
              "2000-01-04 00:00:00-05:00  0.822621  0.840669  0.768951  0.778926  512377600   \n",
              "2000-01-05 00:00:00-05:00  0.788424  0.840194  0.782725  0.790324  778321600   \n",
              "2000-01-06 00:00:00-05:00  0.806473  0.813122  0.721930  0.721930  767972800   \n",
              "2000-01-07 00:00:00-05:00  0.733329  0.767527  0.725731  0.756127  460734400   \n",
              "\n",
              "                           Dividends  Stock Splits  \n",
              "Date                                                \n",
              "2000-01-03 00:00:00-05:00        0.0           0.0  \n",
              "2000-01-04 00:00:00-05:00        0.0           0.0  \n",
              "2000-01-05 00:00:00-05:00        0.0           0.0  \n",
              "2000-01-06 00:00:00-05:00        0.0           0.0  \n",
              "2000-01-07 00:00:00-05:00        0.0           0.0  "
            ]
          },
          "execution_count": 28,
          "metadata": {},
          "output_type": "execute_result"
        }
      ],
      "source": [
        "# obtener datos historicos de Apple los ultimos 23 años\n",
        "msft = yf.Ticker(\"AAPL\")\n",
        "hist = msft.history(start=\"2000-01-01\")\n",
        "\n",
        "hist.head()"
      ]
    },
    {
      "cell_type": "code",
      "execution_count": 71,
      "metadata": {
        "colab": {
          "base_uri": "https://localhost:8080/",
          "height": 300
        },
        "id": "2Z-hjF0tbTh0",
        "outputId": "c1f494c1-c9bd-47a9-e35d-8b8d0c11e86f"
      },
      "outputs": [
        {
          "data": {
            "text/html": [
              "\n",
              "  <div id=\"df-e32fbabf-2b2a-46bc-adcb-54ac68d90c9b\">\n",
              "    <div class=\"colab-df-container\">\n",
              "      <div>\n",
              "<style scoped>\n",
              "    .dataframe tbody tr th:only-of-type {\n",
              "        vertical-align: middle;\n",
              "    }\n",
              "\n",
              "    .dataframe tbody tr th {\n",
              "        vertical-align: top;\n",
              "    }\n",
              "\n",
              "    .dataframe thead th {\n",
              "        text-align: right;\n",
              "    }\n",
              "</style>\n",
              "<table border=\"1\" class=\"dataframe\">\n",
              "  <thead>\n",
              "    <tr style=\"text-align: right;\">\n",
              "      <th></th>\n",
              "      <th>Open</th>\n",
              "      <th>High</th>\n",
              "      <th>Low</th>\n",
              "      <th>Close</th>\n",
              "      <th>Volume</th>\n",
              "      <th>Dividends</th>\n",
              "      <th>Stock Splits</th>\n",
              "      <th>Daily Revenue</th>\n",
              "      <th>Revenue per User</th>\n",
              "      <th>MA7 Revenue per User</th>\n",
              "    </tr>\n",
              "  </thead>\n",
              "  <tbody>\n",
              "    <tr>\n",
              "      <th>count</th>\n",
              "      <td>20.000000</td>\n",
              "      <td>20.000000</td>\n",
              "      <td>20.000000</td>\n",
              "      <td>20.000000</td>\n",
              "      <td>2.000000e+01</td>\n",
              "      <td>20.0</td>\n",
              "      <td>20.0</td>\n",
              "      <td>2.000000e+01</td>\n",
              "      <td>20.000000</td>\n",
              "      <td>14.000000</td>\n",
              "    </tr>\n",
              "    <tr>\n",
              "      <th>mean</th>\n",
              "      <td>260.637000</td>\n",
              "      <td>264.376000</td>\n",
              "      <td>258.134999</td>\n",
              "      <td>261.509502</td>\n",
              "      <td>3.298124e+07</td>\n",
              "      <td>0.0</td>\n",
              "      <td>0.0</td>\n",
              "      <td>8.722408e+09</td>\n",
              "      <td>87.224083</td>\n",
              "      <td>90.392676</td>\n",
              "    </tr>\n",
              "    <tr>\n",
              "      <th>std</th>\n",
              "      <td>11.454081</td>\n",
              "      <td>11.947501</td>\n",
              "      <td>11.052829</td>\n",
              "      <td>11.828723</td>\n",
              "      <td>1.256263e+07</td>\n",
              "      <td>0.0</td>\n",
              "      <td>0.0</td>\n",
              "      <td>3.670340e+09</td>\n",
              "      <td>36.703396</td>\n",
              "      <td>27.620494</td>\n",
              "    </tr>\n",
              "    <tr>\n",
              "      <th>min</th>\n",
              "      <td>246.550003</td>\n",
              "      <td>250.929993</td>\n",
              "      <td>245.610001</td>\n",
              "      <td>246.270004</td>\n",
              "      <td>1.734020e+07</td>\n",
              "      <td>0.0</td>\n",
              "      <td>0.0</td>\n",
              "      <td>4.399209e+09</td>\n",
              "      <td>43.992087</td>\n",
              "      <td>60.750645</td>\n",
              "    </tr>\n",
              "    <tr>\n",
              "      <th>25%</th>\n",
              "      <td>251.912502</td>\n",
              "      <td>254.109997</td>\n",
              "      <td>249.224998</td>\n",
              "      <td>252.017506</td>\n",
              "      <td>2.463360e+07</td>\n",
              "      <td>0.0</td>\n",
              "      <td>0.0</td>\n",
              "      <td>6.220461e+09</td>\n",
              "      <td>62.204614</td>\n",
              "      <td>63.502785</td>\n",
              "    </tr>\n",
              "    <tr>\n",
              "      <th>50%</th>\n",
              "      <td>256.364990</td>\n",
              "      <td>259.839996</td>\n",
              "      <td>254.625000</td>\n",
              "      <td>256.079994</td>\n",
              "      <td>2.953155e+07</td>\n",
              "      <td>0.0</td>\n",
              "      <td>0.0</td>\n",
              "      <td>7.876082e+09</td>\n",
              "      <td>78.760823</td>\n",
              "      <td>82.726167</td>\n",
              "    </tr>\n",
              "    <tr>\n",
              "      <th>75%</th>\n",
              "      <td>273.769997</td>\n",
              "      <td>276.790001</td>\n",
              "      <td>269.602493</td>\n",
              "      <td>272.662506</td>\n",
              "      <td>3.530770e+07</td>\n",
              "      <td>0.0</td>\n",
              "      <td>0.0</td>\n",
              "      <td>9.663084e+09</td>\n",
              "      <td>96.630840</td>\n",
              "      <td>118.958888</td>\n",
              "    </tr>\n",
              "    <tr>\n",
              "      <th>max</th>\n",
              "      <td>278.260010</td>\n",
              "      <td>283.329987</td>\n",
              "      <td>276.320007</td>\n",
              "      <td>280.570007</td>\n",
              "      <td>6.949220e+07</td>\n",
              "      <td>0.0</td>\n",
              "      <td>0.0</td>\n",
              "      <td>1.941820e+10</td>\n",
              "      <td>194.182049</td>\n",
              "      <td>125.312069</td>\n",
              "    </tr>\n",
              "  </tbody>\n",
              "</table>\n",
              "</div>\n",
              "      <button class=\"colab-df-convert\" onclick=\"convertToInteractive('df-e32fbabf-2b2a-46bc-adcb-54ac68d90c9b')\"\n",
              "              title=\"Convert this dataframe to an interactive table.\"\n",
              "              style=\"display:none;\">\n",
              "        \n",
              "  <svg xmlns=\"http://www.w3.org/2000/svg\" height=\"24px\"viewBox=\"0 0 24 24\"\n",
              "       width=\"24px\">\n",
              "    <path d=\"M0 0h24v24H0V0z\" fill=\"none\"/>\n",
              "    <path d=\"M18.56 5.44l.94 2.06.94-2.06 2.06-.94-2.06-.94-.94-2.06-.94 2.06-2.06.94zm-11 1L8.5 8.5l.94-2.06 2.06-.94-2.06-.94L8.5 2.5l-.94 2.06-2.06.94zm10 10l.94 2.06.94-2.06 2.06-.94-2.06-.94-.94-2.06-.94 2.06-2.06.94z\"/><path d=\"M17.41 7.96l-1.37-1.37c-.4-.4-.92-.59-1.43-.59-.52 0-1.04.2-1.43.59L10.3 9.45l-7.72 7.72c-.78.78-.78 2.05 0 2.83L4 21.41c.39.39.9.59 1.41.59.51 0 1.02-.2 1.41-.59l7.78-7.78 2.81-2.81c.8-.78.8-2.07 0-2.86zM5.41 20L4 18.59l7.72-7.72 1.47 1.35L5.41 20z\"/>\n",
              "  </svg>\n",
              "      </button>\n",
              "      \n",
              "  <style>\n",
              "    .colab-df-container {\n",
              "      display:flex;\n",
              "      flex-wrap:wrap;\n",
              "      gap: 12px;\n",
              "    }\n",
              "\n",
              "    .colab-df-convert {\n",
              "      background-color: #E8F0FE;\n",
              "      border: none;\n",
              "      border-radius: 50%;\n",
              "      cursor: pointer;\n",
              "      display: none;\n",
              "      fill: #1967D2;\n",
              "      height: 32px;\n",
              "      padding: 0 0 0 0;\n",
              "      width: 32px;\n",
              "    }\n",
              "\n",
              "    .colab-df-convert:hover {\n",
              "      background-color: #E2EBFA;\n",
              "      box-shadow: 0px 1px 2px rgba(60, 64, 67, 0.3), 0px 1px 3px 1px rgba(60, 64, 67, 0.15);\n",
              "      fill: #174EA6;\n",
              "    }\n",
              "\n",
              "    [theme=dark] .colab-df-convert {\n",
              "      background-color: #3B4455;\n",
              "      fill: #D2E3FC;\n",
              "    }\n",
              "\n",
              "    [theme=dark] .colab-df-convert:hover {\n",
              "      background-color: #434B5C;\n",
              "      box-shadow: 0px 1px 3px 1px rgba(0, 0, 0, 0.15);\n",
              "      filter: drop-shadow(0px 1px 2px rgba(0, 0, 0, 0.3));\n",
              "      fill: #FFFFFF;\n",
              "    }\n",
              "  </style>\n",
              "\n",
              "      <script>\n",
              "        const buttonEl =\n",
              "          document.querySelector('#df-e32fbabf-2b2a-46bc-adcb-54ac68d90c9b button.colab-df-convert');\n",
              "        buttonEl.style.display =\n",
              "          google.colab.kernel.accessAllowed ? 'block' : 'none';\n",
              "\n",
              "        async function convertToInteractive(key) {\n",
              "          const element = document.querySelector('#df-e32fbabf-2b2a-46bc-adcb-54ac68d90c9b');\n",
              "          const dataTable =\n",
              "            await google.colab.kernel.invokeFunction('convertToInteractive',\n",
              "                                                     [key], {});\n",
              "          if (!dataTable) return;\n",
              "\n",
              "          const docLinkHtml = 'Like what you see? Visit the ' +\n",
              "            '<a target=\"_blank\" href=https://colab.research.google.com/notebooks/data_table.ipynb>data table notebook</a>'\n",
              "            + ' to learn more about interactive tables.';\n",
              "          element.innerHTML = '';\n",
              "          dataTable['output_type'] = 'display_data';\n",
              "          await google.colab.output.renderOutput(dataTable, element);\n",
              "          const docLink = document.createElement('div');\n",
              "          docLink.innerHTML = docLinkHtml;\n",
              "          element.appendChild(docLink);\n",
              "        }\n",
              "      </script>\n",
              "    </div>\n",
              "  </div>\n",
              "  "
            ],
            "text/plain": [
              "             Open        High         Low       Close        Volume  \\\n",
              "count   20.000000   20.000000   20.000000   20.000000  2.000000e+01   \n",
              "mean   260.637000  264.376000  258.134999  261.509502  3.298124e+07   \n",
              "std     11.454081   11.947501   11.052829   11.828723  1.256263e+07   \n",
              "min    246.550003  250.929993  245.610001  246.270004  1.734020e+07   \n",
              "25%    251.912502  254.109997  249.224998  252.017506  2.463360e+07   \n",
              "50%    256.364990  259.839996  254.625000  256.079994  2.953155e+07   \n",
              "75%    273.769997  276.790001  269.602493  272.662506  3.530770e+07   \n",
              "max    278.260010  283.329987  276.320007  280.570007  6.949220e+07   \n",
              "\n",
              "       Dividends  Stock Splits  Daily Revenue  Revenue per User  \\\n",
              "count       20.0          20.0   2.000000e+01         20.000000   \n",
              "mean         0.0           0.0   8.722408e+09         87.224083   \n",
              "std          0.0           0.0   3.670340e+09         36.703396   \n",
              "min          0.0           0.0   4.399209e+09         43.992087   \n",
              "25%          0.0           0.0   6.220461e+09         62.204614   \n",
              "50%          0.0           0.0   7.876082e+09         78.760823   \n",
              "75%          0.0           0.0   9.663084e+09         96.630840   \n",
              "max          0.0           0.0   1.941820e+10        194.182049   \n",
              "\n",
              "       MA7 Revenue per User  \n",
              "count             14.000000  \n",
              "mean              90.392676  \n",
              "std               27.620494  \n",
              "min               60.750645  \n",
              "25%               63.502785  \n",
              "50%               82.726167  \n",
              "75%              118.958888  \n",
              "max              125.312069  "
            ]
          },
          "execution_count": 71,
          "metadata": {},
          "output_type": "execute_result"
        }
      ],
      "source": [
        "hist.describe()"
      ]
    },
    {
      "cell_type": "code",
      "execution_count": 29,
      "metadata": {
        "colab": {
          "base_uri": "https://localhost:8080/",
          "height": 314
        },
        "id": "Yx09S6WGc10X",
        "outputId": "5e9fd495-4adf-4c0a-fb3d-ea02eeecc597"
      },
      "outputs": [
        {
          "name": "stdout",
          "output_type": "stream",
          "text": [
            "\r[*********************100%***********************]  1 of 1 completed\n"
          ]
        },
        {
          "data": {
            "text/plain": [
              "<Axes: xlabel='Date'>"
            ]
          },
          "execution_count": 29,
          "metadata": {},
          "output_type": "execute_result"
        },
        {
          "data": {
            "image/png": "[encoded data removed]",
            "text/plain": [
              "<Figure size 432x288 with 1 Axes>"
            ]
          },
          "metadata": {},
          "output_type": "display_data"
        }
      ],
      "source": [
        "apple = yf.download(\"AAPL\", start=\"2000-01-01\")\n",
        "apple = apple[['Open', 'High', 'Low', 'Close']]\n",
        "\n",
        "sns.set_style(\"darkgrid\")\n",
        "sns.set_palette(\"husl\")\n",
        "sns.lineplot(data=apple)"
      ]
    },
    {
      "cell_type": "code",
      "execution_count": 30,
      "metadata": {
        "colab": {
          "base_uri": "https://localhost:8080/",
          "height": 388
        },
        "id": "6Y65wEyPaxZ0",
        "outputId": "13c2efde-02de-4027-c452-f0c19a247598"
      },
      "outputs": [
        {
          "data": {
            "image/png": "[encoded data removed]",
            "text/plain": [
              "<Figure size 864x432 with 1 Axes>"
            ]
          },
          "metadata": {},
          "output_type": "display_data"
        }
      ],
      "source": [
        "import matplotlib.pyplot as plt\n",
        "import matplotlib.dates as mdates\n",
        "\n",
        "# Obtener datos históricos de Apple ultimos 23 años\n",
        "msft = yf.Ticker(\"AAPL\")\n",
        "hist = msft.history(start=\"2000-01-01\")\n",
        "\n",
        "# Configurar gráfica con Seaborn\n",
        "sns.set_style(\"darkgrid\")\n",
        "fig, ax = plt.subplots(figsize=(12, 6))\n",
        "sns.lineplot(x=hist.index, y=hist[\"Close\"], ax=ax)\n",
        "\n",
        "# Configurar formato del eje x\n",
        "date_fmt = mdates.DateFormatter('%d')\n",
        "ax.xaxis.set_major_formatter(date_fmt)\n",
        "\n",
        "# Mostrar gráfica\n",
        "plt.show()\n"
      ]
    },
    {
      "cell_type": "markdown",
      "metadata": {
        "id": "E6XfwVb_fk-p"
      },
      "source": [
        "## KPI - volatilidad (apple)"
      ]
    },
    {
      "cell_type": "code",
      "execution_count": 53,
      "metadata": {
        "colab": {
          "base_uri": "https://localhost:8080/"
        },
        "id": "JkTIBv8ggAV7",
        "outputId": "acff0225-cf86-482c-b98a-cdac256e1c59"
      },
      "outputs": [
        {
          "name": "stdout",
          "output_type": "stream",
          "text": [
            "[*********************100%***********************]  1 of 1 completed\n",
            "[*********************100%***********************]  1 of 1 completed\n",
            "Volatilidad de las acciones de Apple en los últimos 30 días: 22.38%\n",
            "Volatilidad del índice SP500 en los últimos 30 días: 17.27%\n"
          ]
        }
      ],
      "source": [
        "import pandas as pd\n",
        "import yfinance as yf\n",
        "\n",
        "# Descargar los datos históricos de Apple y el índice SP500\n",
        "apple = yf.download(\"AAPL\", period=\"30d\")\n",
        "sp500 = yf.download(\"^GSPC\", period=\"30d\")\n",
        "\n",
        "# Calcular las variaciones porcentuales diarias\n",
        "apple_returns = apple[\"Close\"].pct_change()\n",
        "sp500_returns = sp500[\"Close\"].pct_change()\n",
        "\n",
        "# Calcular la volatilidad de las acciones de Apple y del índice SP500\n",
        "apple_volatility = apple_returns.std() * (252 ** 0.5) # 252 es el número de días de negociación en un año\n",
        "sp500_volatility = sp500_returns.std() * (252 ** 0.5)\n",
        "\n",
        "# Imprimir los resultados\n",
        "print(\"Volatilidad de las acciones de Apple en los últimos 30 días: {:.2f}%\".format(apple_volatility*100))\n",
        "print(\"Volatilidad del índice SP500 en los últimos 30 días: {:.2f}%\".format(sp500_volatility*100))\n"
      ]
    },
    {
      "cell_type": "markdown",
      "metadata": {
        "id": "91RiWcOMn3hS"
      },
      "source": [
        "## Se recomienda entre 10% al 20% de volatilidad "
      ]
    },
    {
      "cell_type": "markdown",
      "metadata": {
        "id": "b0cAIbhCrb_L"
      },
      "source": [
        "###  KPi - Margen bruto de beneficios (APPLE)"
      ]
    },
    {
      "cell_type": "code",
      "execution_count": 32,
      "metadata": {
        "colab": {
          "base_uri": "https://localhost:8080/",
          "height": 296
        },
        "id": "O_4IgO-O1oxc",
        "outputId": "c6490527-babe-4dc6-c6d7-2eeca5d99588"
      },
      "outputs": [
        {
          "data": {
            "text/plain": [
              "<Axes: xlabel='Date'>"
            ]
          },
          "execution_count": 32,
          "metadata": {},
          "output_type": "execute_result"
        },
        {
          "data": {
            "image/png": "[encoded data removed]",
            "text/plain": [
              "<Figure size 432x288 with 1 Axes>"
            ]
          },
          "metadata": {},
          "output_type": "display_data"
        }
      ],
      "source": [
        "import yfinance as yf\n",
        "\n",
        "apple = yf.Ticker(\"AAPL\")\n",
        "historical_data = apple.history(period=\"1mo\")\n",
        "\n",
        "ingresos_totales = historical_data[\"Close\"] * historical_data[\"Volume\"]\n",
        "costo_bienes_vendidos = historical_data[\"Open\"] * historical_data[\"Volume\"]\n",
        "\n",
        "margen_beneficio_bruto = (ingresos_totales - costo_bienes_vendidos) / ingresos_totales\n",
        "\n",
        "import seaborn as sns\n",
        "\n",
        "sns.set_style(\"darkgrid\")\n",
        "sns.lineplot(x=historical_data.index, y=margen_beneficio_bruto)\n"
      ]
    },
    {
      "cell_type": "markdown",
      "metadata": {
        "id": "UFVGsGyzBY81"
      },
      "source": [
        "### KPI - ingreso medio por usuario (Apple)"
      ]
    },
    {
      "cell_type": "code",
      "execution_count": 33,
      "metadata": {
        "colab": {
          "base_uri": "https://localhost:8080/",
          "height": 296
        },
        "id": "ZDUftuJOBj7G",
        "outputId": "05bacbd5-6802-4f53-a917-58b6e6232cf4"
      },
      "outputs": [
        {
          "data": {
            "text/plain": [
              "<Axes: xlabel='Date'>"
            ]
          },
          "execution_count": 33,
          "metadata": {},
          "output_type": "execute_result"
        },
        {
          "data": {
            "image/png": "[encoded data removed]",
            "text/plain": [
              "<Figure size 432x288 with 1 Axes>"
            ]
          },
          "metadata": {},
          "output_type": "display_data"
        }
      ],
      "source": [
        "import yfinance as yf\n",
        "import pandas as pd\n",
        "import seaborn as sns\n",
        "\n",
        "# Obtener los datos de Amazon\n",
        "apple = yf.Ticker(\"AAPL\")\n",
        "\n",
        "# Obtener los datos históricos de los últimos 30 días\n",
        "hist = apple.history(period=\"1mo\")\n",
        "\n",
        "# Calcular los ingresos diarios\n",
        "hist['Daily Revenue'] = hist['Close'] * hist['Volume']\n",
        "\n",
        "# Obtener el número de usuarios promedio (se utiliza el valor de 100 millones como ejemplo)\n",
        "num_users = 100000000\n",
        "\n",
        "# Calcular los ingresos medios por usuario\n",
        "hist['Revenue per User'] = hist['Daily Revenue'] / num_users\n",
        "\n",
        "# Calcular la media móvil de los ingresos medios por usuario en un periodo de 7 días\n",
        "hist['MA7 Revenue per User'] = hist['Revenue per User'].rolling(window=7).mean()\n",
        "\n",
        "# Graficar los ingresos medios por usuario y su media móvil\n",
        "sns.set_style('whitegrid')\n",
        "sns.lineplot(data=hist[['Revenue per User', 'MA7 Revenue per User']])\n"
      ]
    },
    {
      "cell_type": "markdown",
      "metadata": {
        "id": "Zlq1J35yCQzx"
      },
      "source": [
        "El KPI de \"Ingresos medios por usuario\" puede ser un indicador de la prosperidad de una empresa como Amazon si muestra un aumento constante a lo largo del tiempo. Si el ingreso promedio por usuario de la empresa ha aumentado, significa que ha logrado aumentar su base de clientes, ha mejorado la satisfacción y fidelidad del cliente, y/o ha logrado aumentar los ingresos por venta. Si este KPI se mantiene constante o disminuye, podría indicar que la empresa está teniendo dificultades para atraer y retener a los clientes, o que está experimentando una disminución en los ingresos por venta. Por lo tanto, un aumento constante en los ingresos medios por usuario puede interpretarse como un resultado positivo para la empresa."
      ]
    },
    {
      "cell_type": "markdown",
      "metadata": {
        "id": "D9lxPeYvcqQw"
      },
      "source": [
        "### Google historico 23 años"
      ]
    },
    {
      "cell_type": "code",
      "execution_count": 34,
      "metadata": {
        "colab": {
          "base_uri": "https://localhost:8080/",
          "height": 238
        },
        "id": "pbB40wY9dF4U",
        "outputId": "640c41c5-d41a-471d-d0f3-0f2705182947"
      },
      "outputs": [
        {
          "data": {
            "text/html": [
              "\n",
              "  <div id=\"df-9beab376-8398-4912-b40d-9f1254965d08\">\n",
              "    <div class=\"colab-df-container\">\n",
              "      <div>\n",
              "<style scoped>\n",
              "    .dataframe tbody tr th:only-of-type {\n",
              "        vertical-align: middle;\n",
              "    }\n",
              "\n",
              "    .dataframe tbody tr th {\n",
              "        vertical-align: top;\n",
              "    }\n",
              "\n",
              "    .dataframe thead th {\n",
              "        text-align: right;\n",
              "    }\n",
              "</style>\n",
              "<table border=\"1\" class=\"dataframe\">\n",
              "  <thead>\n",
              "    <tr style=\"text-align: right;\">\n",
              "      <th></th>\n",
              "      <th>Open</th>\n",
              "      <th>High</th>\n",
              "      <th>Low</th>\n",
              "      <th>Close</th>\n",
              "      <th>Volume</th>\n",
              "      <th>Dividends</th>\n",
              "      <th>Stock Splits</th>\n",
              "    </tr>\n",
              "    <tr>\n",
              "      <th>Date</th>\n",
              "      <th></th>\n",
              "      <th></th>\n",
              "      <th></th>\n",
              "      <th></th>\n",
              "      <th></th>\n",
              "      <th></th>\n",
              "      <th></th>\n",
              "    </tr>\n",
              "  </thead>\n",
              "  <tbody>\n",
              "    <tr>\n",
              "      <th>2000-01-03 00:00:00-05:00</th>\n",
              "      <td>0.796974</td>\n",
              "      <td>0.854918</td>\n",
              "      <td>0.772751</td>\n",
              "      <td>0.850643</td>\n",
              "      <td>535796800</td>\n",
              "      <td>0.0</td>\n",
              "      <td>0.0</td>\n",
              "    </tr>\n",
              "    <tr>\n",
              "      <th>2000-01-04 00:00:00-05:00</th>\n",
              "      <td>0.822621</td>\n",
              "      <td>0.840669</td>\n",
              "      <td>0.768951</td>\n",
              "      <td>0.778926</td>\n",
              "      <td>512377600</td>\n",
              "      <td>0.0</td>\n",
              "      <td>0.0</td>\n",
              "    </tr>\n",
              "    <tr>\n",
              "      <th>2000-01-05 00:00:00-05:00</th>\n",
              "      <td>0.788424</td>\n",
              "      <td>0.840194</td>\n",
              "      <td>0.782725</td>\n",
              "      <td>0.790324</td>\n",
              "      <td>778321600</td>\n",
              "      <td>0.0</td>\n",
              "      <td>0.0</td>\n",
              "    </tr>\n",
              "    <tr>\n",
              "      <th>2000-01-06 00:00:00-05:00</th>\n",
              "      <td>0.806473</td>\n",
              "      <td>0.813122</td>\n",
              "      <td>0.721930</td>\n",
              "      <td>0.721930</td>\n",
              "      <td>767972800</td>\n",
              "      <td>0.0</td>\n",
              "      <td>0.0</td>\n",
              "    </tr>\n",
              "    <tr>\n",
              "      <th>2000-01-07 00:00:00-05:00</th>\n",
              "      <td>0.733329</td>\n",
              "      <td>0.767527</td>\n",
              "      <td>0.725731</td>\n",
              "      <td>0.756127</td>\n",
              "      <td>460734400</td>\n",
              "      <td>0.0</td>\n",
              "      <td>0.0</td>\n",
              "    </tr>\n",
              "  </tbody>\n",
              "</table>\n",
              "</div>\n",
              "      <button class=\"colab-df-convert\" onclick=\"convertToInteractive('df-9beab376-8398-4912-b40d-9f1254965d08')\"\n",
              "              title=\"Convert this dataframe to an interactive table.\"\n",
              "              style=\"display:none;\">\n",
              "        \n",
              "  <svg xmlns=\"http://www.w3.org/2000/svg\" height=\"24px\"viewBox=\"0 0 24 24\"\n",
              "       width=\"24px\">\n",
              "    <path d=\"M0 0h24v24H0V0z\" fill=\"none\"/>\n",
              "    <path d=\"M18.56 5.44l.94 2.06.94-2.06 2.06-.94-2.06-.94-.94-2.06-.94 2.06-2.06.94zm-11 1L8.5 8.5l.94-2.06 2.06-.94-2.06-.94L8.5 2.5l-.94 2.06-2.06.94zm10 10l.94 2.06.94-2.06 2.06-.94-2.06-.94-.94-2.06-.94 2.06-2.06.94z\"/><path d=\"M17.41 7.96l-1.37-1.37c-.4-.4-.92-.59-1.43-.59-.52 0-1.04.2-1.43.59L10.3 9.45l-7.72 7.72c-.78.78-.78 2.05 0 2.83L4 21.41c.39.39.9.59 1.41.59.51 0 1.02-.2 1.41-.59l7.78-7.78 2.81-2.81c.8-.78.8-2.07 0-2.86zM5.41 20L4 18.59l7.72-7.72 1.47 1.35L5.41 20z\"/>\n",
              "  </svg>\n",
              "      </button>\n",
              "      \n",
              "  <style>\n",
              "    .colab-df-container {\n",
              "      display:flex;\n",
              "      flex-wrap:wrap;\n",
              "      gap: 12px;\n",
              "    }\n",
              "\n",
              "    .colab-df-convert {\n",
              "      background-color: #E8F0FE;\n",
              "      border: none;\n",
              "      border-radius: 50%;\n",
              "      cursor: pointer;\n",
              "      display: none;\n",
              "      fill: #1967D2;\n",
              "      height: 32px;\n",
              "      padding: 0 0 0 0;\n",
              "      width: 32px;\n",
              "    }\n",
              "\n",
              "    .colab-df-convert:hover {\n",
              "      background-color: #E2EBFA;\n",
              "      box-shadow: 0px 1px 2px rgba(60, 64, 67, 0.3), 0px 1px 3px 1px rgba(60, 64, 67, 0.15);\n",
              "      fill: #174EA6;\n",
              "    }\n",
              "\n",
              "    [theme=dark] .colab-df-convert {\n",
              "      background-color: #3B4455;\n",
              "      fill: #D2E3FC;\n",
              "    }\n",
              "\n",
              "    [theme=dark] .colab-df-convert:hover {\n",
              "      background-color: #434B5C;\n",
              "      box-shadow: 0px 1px 3px 1px rgba(0, 0, 0, 0.15);\n",
              "      filter: drop-shadow(0px 1px 2px rgba(0, 0, 0, 0.3));\n",
              "      fill: #FFFFFF;\n",
              "    }\n",
              "  </style>\n",
              "\n",
              "      <script>\n",
              "        const buttonEl =\n",
              "          document.querySelector('#df-9beab376-8398-4912-b40d-9f1254965d08 button.colab-df-convert');\n",
              "        buttonEl.style.display =\n",
              "          google.colab.kernel.accessAllowed ? 'block' : 'none';\n",
              "\n",
              "        async function convertToInteractive(key) {\n",
              "          const element = document.querySelector('#df-9beab376-8398-4912-b40d-9f1254965d08');\n",
              "          const dataTable =\n",
              "            await google.colab.kernel.invokeFunction('convertToInteractive',\n",
              "                                                     [key], {});\n",
              "          if (!dataTable) return;\n",
              "\n",
              "          const docLinkHtml = 'Like what you see? Visit the ' +\n",
              "            '<a target=\"_blank\" href=https://colab.research.google.com/notebooks/data_table.ipynb>data table notebook</a>'\n",
              "            + ' to learn more about interactive tables.';\n",
              "          element.innerHTML = '';\n",
              "          dataTable['output_type'] = 'display_data';\n",
              "          await google.colab.output.renderOutput(dataTable, element);\n",
              "          const docLink = document.createElement('div');\n",
              "          docLink.innerHTML = docLinkHtml;\n",
              "          element.appendChild(docLink);\n",
              "        }\n",
              "      </script>\n",
              "    </div>\n",
              "  </div>\n",
              "  "
            ],
            "text/plain": [
              "                               Open      High       Low     Close     Volume  \\\n",
              "Date                                                                           \n",
              "2000-01-03 00:00:00-05:00  0.796974  0.854918  0.772751  0.850643  535796800   \n",
              "2000-01-04 00:00:00-05:00  0.822621  0.840669  0.768951  0.778926  512377600   \n",
              "2000-01-05 00:00:00-05:00  0.788424  0.840194  0.782725  0.790324  778321600   \n",
              "2000-01-06 00:00:00-05:00  0.806473  0.813122  0.721930  0.721930  767972800   \n",
              "2000-01-07 00:00:00-05:00  0.733329  0.767527  0.725731  0.756127  460734400   \n",
              "\n",
              "                           Dividends  Stock Splits  \n",
              "Date                                                \n",
              "2000-01-03 00:00:00-05:00        0.0           0.0  \n",
              "2000-01-04 00:00:00-05:00        0.0           0.0  \n",
              "2000-01-05 00:00:00-05:00        0.0           0.0  \n",
              "2000-01-06 00:00:00-05:00        0.0           0.0  \n",
              "2000-01-07 00:00:00-05:00        0.0           0.0  "
            ]
          },
          "execution_count": 34,
          "metadata": {},
          "output_type": "execute_result"
        }
      ],
      "source": [
        "# obtener datos historicos de GOOGLE los ultimos 30 dias\n",
        "google = yf.Ticker(\"GOOGL\")\n",
        "hist = msft.history(start=\"2000-01-01\")\n",
        "\n",
        "hist.head()"
      ]
    },
    {
      "cell_type": "code",
      "execution_count": 72,
      "metadata": {
        "colab": {
          "base_uri": "https://localhost:8080/",
          "height": 300
        },
        "id": "l1C1E9_dbceY",
        "outputId": "0582f301-8d01-4e79-fabf-830e9f933df9"
      },
      "outputs": [
        {
          "data": {
            "text/html": [
              "\n",
              "  <div id=\"df-e6e30622-298b-48f5-b1ea-897baf0a8a26\">\n",
              "    <div class=\"colab-df-container\">\n",
              "      <div>\n",
              "<style scoped>\n",
              "    .dataframe tbody tr th:only-of-type {\n",
              "        vertical-align: middle;\n",
              "    }\n",
              "\n",
              "    .dataframe tbody tr th {\n",
              "        vertical-align: top;\n",
              "    }\n",
              "\n",
              "    .dataframe thead th {\n",
              "        text-align: right;\n",
              "    }\n",
              "</style>\n",
              "<table border=\"1\" class=\"dataframe\">\n",
              "  <thead>\n",
              "    <tr style=\"text-align: right;\">\n",
              "      <th></th>\n",
              "      <th>Open</th>\n",
              "      <th>High</th>\n",
              "      <th>Low</th>\n",
              "      <th>Close</th>\n",
              "      <th>Volume</th>\n",
              "      <th>Dividends</th>\n",
              "      <th>Stock Splits</th>\n",
              "      <th>Daily Revenue</th>\n",
              "      <th>Revenue per User</th>\n",
              "      <th>MA7 Revenue per User</th>\n",
              "    </tr>\n",
              "  </thead>\n",
              "  <tbody>\n",
              "    <tr>\n",
              "      <th>count</th>\n",
              "      <td>20.000000</td>\n",
              "      <td>20.000000</td>\n",
              "      <td>20.000000</td>\n",
              "      <td>20.000000</td>\n",
              "      <td>2.000000e+01</td>\n",
              "      <td>20.0</td>\n",
              "      <td>20.0</td>\n",
              "      <td>2.000000e+01</td>\n",
              "      <td>20.000000</td>\n",
              "      <td>14.000000</td>\n",
              "    </tr>\n",
              "    <tr>\n",
              "      <th>mean</th>\n",
              "      <td>260.637000</td>\n",
              "      <td>264.376000</td>\n",
              "      <td>258.134999</td>\n",
              "      <td>261.509502</td>\n",
              "      <td>3.298124e+07</td>\n",
              "      <td>0.0</td>\n",
              "      <td>0.0</td>\n",
              "      <td>8.722408e+09</td>\n",
              "      <td>87.224083</td>\n",
              "      <td>90.392676</td>\n",
              "    </tr>\n",
              "    <tr>\n",
              "      <th>std</th>\n",
              "      <td>11.454081</td>\n",
              "      <td>11.947501</td>\n",
              "      <td>11.052829</td>\n",
              "      <td>11.828723</td>\n",
              "      <td>1.256263e+07</td>\n",
              "      <td>0.0</td>\n",
              "      <td>0.0</td>\n",
              "      <td>3.670340e+09</td>\n",
              "      <td>36.703396</td>\n",
              "      <td>27.620494</td>\n",
              "    </tr>\n",
              "    <tr>\n",
              "      <th>min</th>\n",
              "      <td>246.550003</td>\n",
              "      <td>250.929993</td>\n",
              "      <td>245.610001</td>\n",
              "      <td>246.270004</td>\n",
              "      <td>1.734020e+07</td>\n",
              "      <td>0.0</td>\n",
              "      <td>0.0</td>\n",
              "      <td>4.399209e+09</td>\n",
              "      <td>43.992087</td>\n",
              "      <td>60.750645</td>\n",
              "    </tr>\n",
              "    <tr>\n",
              "      <th>25%</th>\n",
              "      <td>251.912502</td>\n",
              "      <td>254.109997</td>\n",
              "      <td>249.224998</td>\n",
              "      <td>252.017506</td>\n",
              "      <td>2.463360e+07</td>\n",
              "      <td>0.0</td>\n",
              "      <td>0.0</td>\n",
              "      <td>6.220461e+09</td>\n",
              "      <td>62.204614</td>\n",
              "      <td>63.502785</td>\n",
              "    </tr>\n",
              "    <tr>\n",
              "      <th>50%</th>\n",
              "      <td>256.364990</td>\n",
              "      <td>259.839996</td>\n",
              "      <td>254.625000</td>\n",
              "      <td>256.079994</td>\n",
              "      <td>2.953155e+07</td>\n",
              "      <td>0.0</td>\n",
              "      <td>0.0</td>\n",
              "      <td>7.876082e+09</td>\n",
              "      <td>78.760823</td>\n",
              "      <td>82.726167</td>\n",
              "    </tr>\n",
              "    <tr>\n",
              "      <th>75%</th>\n",
              "      <td>273.769997</td>\n",
              "      <td>276.790001</td>\n",
              "      <td>269.602493</td>\n",
              "      <td>272.662506</td>\n",
              "      <td>3.530770e+07</td>\n",
              "      <td>0.0</td>\n",
              "      <td>0.0</td>\n",
              "      <td>9.663084e+09</td>\n",
              "      <td>96.630840</td>\n",
              "      <td>118.958888</td>\n",
              "    </tr>\n",
              "    <tr>\n",
              "      <th>max</th>\n",
              "      <td>278.260010</td>\n",
              "      <td>283.329987</td>\n",
              "      <td>276.320007</td>\n",
              "      <td>280.570007</td>\n",
              "      <td>6.949220e+07</td>\n",
              "      <td>0.0</td>\n",
              "      <td>0.0</td>\n",
              "      <td>1.941820e+10</td>\n",
              "      <td>194.182049</td>\n",
              "      <td>125.312069</td>\n",
              "    </tr>\n",
              "  </tbody>\n",
              "</table>\n",
              "</div>\n",
              "      <button class=\"colab-df-convert\" onclick=\"convertToInteractive('df-e6e30622-298b-48f5-b1ea-897baf0a8a26')\"\n",
              "              title=\"Convert this dataframe to an interactive table.\"\n",
              "              style=\"display:none;\">\n",
              "        \n",
              "  <svg xmlns=\"http://www.w3.org/2000/svg\" height=\"24px\"viewBox=\"0 0 24 24\"\n",
              "       width=\"24px\">\n",
              "    <path d=\"M0 0h24v24H0V0z\" fill=\"none\"/>\n",
              "    <path d=\"M18.56 5.44l.94 2.06.94-2.06 2.06-.94-2.06-.94-.94-2.06-.94 2.06-2.06.94zm-11 1L8.5 8.5l.94-2.06 2.06-.94-2.06-.94L8.5 2.5l-.94 2.06-2.06.94zm10 10l.94 2.06.94-2.06 2.06-.94-2.06-.94-.94-2.06-.94 2.06-2.06.94z\"/><path d=\"M17.41 7.96l-1.37-1.37c-.4-.4-.92-.59-1.43-.59-.52 0-1.04.2-1.43.59L10.3 9.45l-7.72 7.72c-.78.78-.78 2.05 0 2.83L4 21.41c.39.39.9.59 1.41.59.51 0 1.02-.2 1.41-.59l7.78-7.78 2.81-2.81c.8-.78.8-2.07 0-2.86zM5.41 20L4 18.59l7.72-7.72 1.47 1.35L5.41 20z\"/>\n",
              "  </svg>\n",
              "      </button>\n",
              "      \n",
              "  <style>\n",
              "    .colab-df-container {\n",
              "      display:flex;\n",
              "      flex-wrap:wrap;\n",
              "      gap: 12px;\n",
              "    }\n",
              "\n",
              "    .colab-df-convert {\n",
              "      background-color: #E8F0FE;\n",
              "      border: none;\n",
              "      border-radius: 50%;\n",
              "      cursor: pointer;\n",
              "      display: none;\n",
              "      fill: #1967D2;\n",
              "      height: 32px;\n",
              "      padding: 0 0 0 0;\n",
              "      width: 32px;\n",
              "    }\n",
              "\n",
              "    .colab-df-convert:hover {\n",
              "      background-color: #E2EBFA;\n",
              "      box-shadow: 0px 1px 2px rgba(60, 64, 67, 0.3), 0px 1px 3px 1px rgba(60, 64, 67, 0.15);\n",
              "      fill: #174EA6;\n",
              "    }\n",
              "\n",
              "    [theme=dark] .colab-df-convert {\n",
              "      background-color: #3B4455;\n",
              "      fill: #D2E3FC;\n",
              "    }\n",
              "\n",
              "    [theme=dark] .colab-df-convert:hover {\n",
              "      background-color: #434B5C;\n",
              "      box-shadow: 0px 1px 3px 1px rgba(0, 0, 0, 0.15);\n",
              "      filter: drop-shadow(0px 1px 2px rgba(0, 0, 0, 0.3));\n",
              "      fill: #FFFFFF;\n",
              "    }\n",
              "  </style>\n",
              "\n",
              "      <script>\n",
              "        const buttonEl =\n",
              "          document.querySelector('#df-e6e30622-298b-48f5-b1ea-897baf0a8a26 button.colab-df-convert');\n",
              "        buttonEl.style.display =\n",
              "          google.colab.kernel.accessAllowed ? 'block' : 'none';\n",
              "\n",
              "        async function convertToInteractive(key) {\n",
              "          const element = document.querySelector('#df-e6e30622-298b-48f5-b1ea-897baf0a8a26');\n",
              "          const dataTable =\n",
              "            await google.colab.kernel.invokeFunction('convertToInteractive',\n",
              "                                                     [key], {});\n",
              "          if (!dataTable) return;\n",
              "\n",
              "          const docLinkHtml = 'Like what you see? Visit the ' +\n",
              "            '<a target=\"_blank\" href=https://colab.research.google.com/notebooks/data_table.ipynb>data table notebook</a>'\n",
              "            + ' to learn more about interactive tables.';\n",
              "          element.innerHTML = '';\n",
              "          dataTable['output_type'] = 'display_data';\n",
              "          await google.colab.output.renderOutput(dataTable, element);\n",
              "          const docLink = document.createElement('div');\n",
              "          docLink.innerHTML = docLinkHtml;\n",
              "          element.appendChild(docLink);\n",
              "        }\n",
              "      </script>\n",
              "    </div>\n",
              "  </div>\n",
              "  "
            ],
            "text/plain": [
              "             Open        High         Low       Close        Volume  \\\n",
              "count   20.000000   20.000000   20.000000   20.000000  2.000000e+01   \n",
              "mean   260.637000  264.376000  258.134999  261.509502  3.298124e+07   \n",
              "std     11.454081   11.947501   11.052829   11.828723  1.256263e+07   \n",
              "min    246.550003  250.929993  245.610001  246.270004  1.734020e+07   \n",
              "25%    251.912502  254.109997  249.224998  252.017506  2.463360e+07   \n",
              "50%    256.364990  259.839996  254.625000  256.079994  2.953155e+07   \n",
              "75%    273.769997  276.790001  269.602493  272.662506  3.530770e+07   \n",
              "max    278.260010  283.329987  276.320007  280.570007  6.949220e+07   \n",
              "\n",
              "       Dividends  Stock Splits  Daily Revenue  Revenue per User  \\\n",
              "count       20.0          20.0   2.000000e+01         20.000000   \n",
              "mean         0.0           0.0   8.722408e+09         87.224083   \n",
              "std          0.0           0.0   3.670340e+09         36.703396   \n",
              "min          0.0           0.0   4.399209e+09         43.992087   \n",
              "25%          0.0           0.0   6.220461e+09         62.204614   \n",
              "50%          0.0           0.0   7.876082e+09         78.760823   \n",
              "75%          0.0           0.0   9.663084e+09         96.630840   \n",
              "max          0.0           0.0   1.941820e+10        194.182049   \n",
              "\n",
              "       MA7 Revenue per User  \n",
              "count             14.000000  \n",
              "mean              90.392676  \n",
              "std               27.620494  \n",
              "min               60.750645  \n",
              "25%               63.502785  \n",
              "50%               82.726167  \n",
              "75%              118.958888  \n",
              "max              125.312069  "
            ]
          },
          "execution_count": 72,
          "metadata": {},
          "output_type": "execute_result"
        }
      ],
      "source": [
        "hist.describe()"
      ]
    },
    {
      "cell_type": "code",
      "execution_count": 35,
      "metadata": {
        "colab": {
          "base_uri": "https://localhost:8080/",
          "height": 388
        },
        "id": "P40dt8J2eHQr",
        "outputId": "21b8e372-abd7-405e-8181-5aca3dd36c50"
      },
      "outputs": [
        {
          "data": {
            "image/png": "[encoded data removed]",
            "text/plain": [
              "<Figure size 864x432 with 1 Axes>"
            ]
          },
          "metadata": {},
          "output_type": "display_data"
        }
      ],
      "source": [
        "import matplotlib.pyplot as plt\n",
        "import matplotlib.dates as mdates\n",
        "\n",
        "# Obtener datos históricos de GOOGLE ultimos 23 años\n",
        "google = yf.Ticker(\"GOOGL\")\n",
        "hist = msft.history(start=\"2000-01-01\")\n",
        "\n",
        "# Configurar gráfica con Seaborn\n",
        "sns.set_style(\"darkgrid\")\n",
        "fig, ax = plt.subplots(figsize=(12, 6))\n",
        "sns.lineplot(x=hist.index, y=hist[\"Close\"], ax=ax)\n",
        "\n",
        "# Configurar formato del eje x\n",
        "date_fmt = mdates.DateFormatter('%d')\n",
        "ax.xaxis.set_major_formatter(date_fmt)\n",
        "\n",
        "# Mostrar gráfica\n",
        "plt.show()"
      ]
    },
    {
      "cell_type": "code",
      "execution_count": 36,
      "metadata": {
        "colab": {
          "base_uri": "https://localhost:8080/",
          "height": 314
        },
        "id": "d7tH1n4AcscC",
        "outputId": "b67042bc-04ae-410b-cb36-a55a059ec730"
      },
      "outputs": [
        {
          "name": "stdout",
          "output_type": "stream",
          "text": [
            "\r[*********************100%***********************]  1 of 1 completed\n"
          ]
        },
        {
          "data": {
            "text/plain": [
              "<Axes: xlabel='Date'>"
            ]
          },
          "execution_count": 36,
          "metadata": {},
          "output_type": "execute_result"
        },
        {
          "data": {
            "image/png": "[encoded data removed]",
            "text/plain": [
              "<Figure size 432x288 with 1 Axes>"
            ]
          },
          "metadata": {},
          "output_type": "display_data"
        }
      ],
      "source": [
        "# visualizar precios de los ultimos 30 dias\n",
        "import yfinance as yf\n",
        "import seaborn as sns\n",
        "\n",
        "googl = yf.download(\"GOOGL\", period=\"1mo\")\n",
        "googl = googl[['Open', 'High', 'Low', 'Close']]\n",
        "\n",
        "sns.set_style(\"darkgrid\")\n",
        "sns.set_palette(\"husl\")\n",
        "sns.lineplot(data=googl)\n"
      ]
    },
    {
      "cell_type": "markdown",
      "metadata": {
        "id": "1IGNRcpGqdOF"
      },
      "source": [
        "### KPI - volatilidad (google)"
      ]
    },
    {
      "cell_type": "code",
      "execution_count": 37,
      "metadata": {
        "colab": {
          "base_uri": "https://localhost:8080/"
        },
        "id": "tFsfpuO2ou0S",
        "outputId": "0462950e-8bf1-4338-fa26-20cfbc80a1ab"
      },
      "outputs": [
        {
          "name": "stdout",
          "output_type": "stream",
          "text": [
            "[*********************100%***********************]  1 of 1 completed\n",
            "[*********************100%***********************]  1 of 1 completed\n",
            "Volatilidad de las acciones de google en los últimos 30 días: 28.88%\n",
            "Volatilidad del índice SP500 en los últimos 30 días: 17.27%\n"
          ]
        }
      ],
      "source": [
        "# Descargar los datos históricos de google y el índice SP500\n",
        "google = yf.download(\"GOOGL\", period=\"30d\")\n",
        "sp500 = yf.download(\"^GSPC\", period=\"30d\")\n",
        "\n",
        "# Calcular las variaciones porcentuales diarias\n",
        "google_returns = google[\"Close\"].pct_change()\n",
        "sp500_returns = sp500[\"Close\"].pct_change()\n",
        "\n",
        "# Calcular la volatilidad de las acciones de google y del índice SP500\n",
        "google_volatility = google_returns.std() * (252 ** 0.5) # 252 es el número de días de negociación en un año\n",
        "sp500_volatility = sp500_returns.std() * (252 ** 0.5)\n",
        "\n",
        "# Imprimir los resultados\n",
        "print(\"Volatilidad de las acciones de google en los últimos 30 días: {:.2f}%\".format(google_volatility*100))\n",
        "print(\"Volatilidad del índice SP500 en los últimos 30 días: {:.2f}%\".format(sp500_volatility*100))"
      ]
    },
    {
      "cell_type": "markdown",
      "metadata": {
        "id": "PpGL6mUz6HbF"
      },
      "source": [
        "###  KPi - Margen bruto de beneficios (google)"
      ]
    },
    {
      "cell_type": "code",
      "execution_count": 38,
      "metadata": {
        "colab": {
          "base_uri": "https://localhost:8080/",
          "height": 296
        },
        "id": "lW4IlQ1M5-H-",
        "outputId": "b2c0293b-51e4-45ee-dcef-9f0228c943ef"
      },
      "outputs": [
        {
          "data": {
            "text/plain": [
              "<Axes: xlabel='Date'>"
            ]
          },
          "execution_count": 38,
          "metadata": {},
          "output_type": "execute_result"
        },
        {
          "data": {
            "image/png": "[encoded data removed]",
            "text/plain": [
              "<Figure size 432x288 with 1 Axes>"
            ]
          },
          "metadata": {},
          "output_type": "display_data"
        }
      ],
      "source": [
        "import yfinance as yf\n",
        "\n",
        "google = yf.Ticker(\"GOOGL\")\n",
        "historical_data = google.history(period=\"1mo\")\n",
        "\n",
        "ingresos_totales = historical_data[\"Close\"] * historical_data[\"Volume\"]\n",
        "costo_bienes_vendidos = historical_data[\"Open\"] * historical_data[\"Volume\"]\n",
        "\n",
        "margen_beneficio_bruto = (ingresos_totales - costo_bienes_vendidos) / ingresos_totales\n",
        "\n",
        "import seaborn as sns\n",
        "\n",
        "sns.set_style(\"darkgrid\")\n",
        "sns.lineplot(x=historical_data.index, y=margen_beneficio_bruto)"
      ]
    },
    {
      "cell_type": "markdown",
      "metadata": {
        "id": "Y3n_p-CFAslp"
      },
      "source": [
        "### KPI  - Ingresos medios por usuario (google)"
      ]
    },
    {
      "cell_type": "code",
      "execution_count": 39,
      "metadata": {
        "colab": {
          "base_uri": "https://localhost:8080/",
          "height": 296
        },
        "id": "w2aVojrQAwFN",
        "outputId": "a14a184b-9019-471b-b373-5945cd81dc1f"
      },
      "outputs": [
        {
          "data": {
            "text/plain": [
              "<Axes: xlabel='Date'>"
            ]
          },
          "execution_count": 39,
          "metadata": {},
          "output_type": "execute_result"
        },
        {
          "data": {
            "image/png": "[encoded data removed]",
            "text/plain": [
              "<Figure size 432x288 with 1 Axes>"
            ]
          },
          "metadata": {},
          "output_type": "display_data"
        }
      ],
      "source": [
        "import yfinance as yf\n",
        "import pandas as pd\n",
        "import seaborn as sns\n",
        "\n",
        "# Obtener los datos de google\n",
        "google = yf.Ticker(\"GOOGL\")\n",
        "\n",
        "# Obtener los datos históricos de los últimos 30 días\n",
        "hist = google.history(period=\"1mo\")\n",
        "\n",
        "# Calcular los ingresos diarios\n",
        "hist['Daily Revenue'] = hist['Close'] * hist['Volume']\n",
        "\n",
        "# Obtener el número de usuarios promedio (se utiliza el valor de 100 millones como ejemplo)\n",
        "num_users = 100000000\n",
        "\n",
        "# Calcular los ingresos medios por usuario\n",
        "hist['Revenue per User'] = hist['Daily Revenue'] / num_users\n",
        "\n",
        "# Calcular la media móvil de los ingresos medios por usuario en un periodo de 7 días\n",
        "hist['MA7 Revenue per User'] = hist['Revenue per User'].rolling(window=7).mean()\n",
        "\n",
        "# Graficar los ingresos medios por usuario y su media móvil\n",
        "sns.set_style('whitegrid')\n",
        "sns.lineplot(data=hist[['Revenue per User', 'MA7 Revenue per User']])\n"
      ]
    },
    {
      "cell_type": "markdown",
      "metadata": {
        "id": "lJjKtQ8ZBRRs"
      },
      "source": [
        "El KPI de \"Ingresos medios por usuario\" puede ser un indicador de la prosperidad de una empresa como Amazon si muestra un aumento constante a lo largo del tiempo. Si el ingreso promedio por usuario de la empresa ha aumentado, significa que ha logrado aumentar su base de clientes, ha mejorado la satisfacción y fidelidad del cliente, y/o ha logrado aumentar los ingresos por venta. Si este KPI se mantiene constante o disminuye, podría indicar que la empresa está teniendo dificultades para atraer y retener a los clientes, o que está experimentando una disminución en los ingresos por venta. Por lo tanto, un aumento constante en los ingresos medios por usuario puede interpretarse como un resultado positivo para la empresa."
      ]
    },
    {
      "cell_type": "markdown",
      "metadata": {
        "id": "qLTV0oVGd0HA"
      },
      "source": [
        "### Amazon historico ultimos 23 años"
      ]
    },
    {
      "cell_type": "code",
      "execution_count": 40,
      "metadata": {
        "colab": {
          "base_uri": "https://localhost:8080/",
          "height": 238
        },
        "id": "WJK_Z90Bd69K",
        "outputId": "82937f19-309a-493d-9ed9-0f05a0d7f695"
      },
      "outputs": [
        {
          "data": {
            "text/html": [
              "\n",
              "  <div id=\"df-79eff97f-dd0b-4819-bbbf-b426726cb7dd\">\n",
              "    <div class=\"colab-df-container\">\n",
              "      <div>\n",
              "<style scoped>\n",
              "    .dataframe tbody tr th:only-of-type {\n",
              "        vertical-align: middle;\n",
              "    }\n",
              "\n",
              "    .dataframe tbody tr th {\n",
              "        vertical-align: top;\n",
              "    }\n",
              "\n",
              "    .dataframe thead th {\n",
              "        text-align: right;\n",
              "    }\n",
              "</style>\n",
              "<table border=\"1\" class=\"dataframe\">\n",
              "  <thead>\n",
              "    <tr style=\"text-align: right;\">\n",
              "      <th></th>\n",
              "      <th>Open</th>\n",
              "      <th>High</th>\n",
              "      <th>Low</th>\n",
              "      <th>Close</th>\n",
              "      <th>Volume</th>\n",
              "      <th>Dividends</th>\n",
              "      <th>Stock Splits</th>\n",
              "    </tr>\n",
              "    <tr>\n",
              "      <th>Date</th>\n",
              "      <th></th>\n",
              "      <th></th>\n",
              "      <th></th>\n",
              "      <th></th>\n",
              "      <th></th>\n",
              "      <th></th>\n",
              "      <th></th>\n",
              "    </tr>\n",
              "  </thead>\n",
              "  <tbody>\n",
              "    <tr>\n",
              "      <th>2000-01-03 00:00:00-05:00</th>\n",
              "      <td>0.796974</td>\n",
              "      <td>0.854918</td>\n",
              "      <td>0.772751</td>\n",
              "      <td>0.850644</td>\n",
              "      <td>535796800</td>\n",
              "      <td>0.0</td>\n",
              "      <td>0.0</td>\n",
              "    </tr>\n",
              "    <tr>\n",
              "      <th>2000-01-04 00:00:00-05:00</th>\n",
              "      <td>0.822621</td>\n",
              "      <td>0.840669</td>\n",
              "      <td>0.768951</td>\n",
              "      <td>0.778926</td>\n",
              "      <td>512377600</td>\n",
              "      <td>0.0</td>\n",
              "      <td>0.0</td>\n",
              "    </tr>\n",
              "    <tr>\n",
              "      <th>2000-01-05 00:00:00-05:00</th>\n",
              "      <td>0.788424</td>\n",
              "      <td>0.840194</td>\n",
              "      <td>0.782725</td>\n",
              "      <td>0.790324</td>\n",
              "      <td>778321600</td>\n",
              "      <td>0.0</td>\n",
              "      <td>0.0</td>\n",
              "    </tr>\n",
              "    <tr>\n",
              "      <th>2000-01-06 00:00:00-05:00</th>\n",
              "      <td>0.806473</td>\n",
              "      <td>0.813122</td>\n",
              "      <td>0.721930</td>\n",
              "      <td>0.721930</td>\n",
              "      <td>767972800</td>\n",
              "      <td>0.0</td>\n",
              "      <td>0.0</td>\n",
              "    </tr>\n",
              "    <tr>\n",
              "      <th>2000-01-07 00:00:00-05:00</th>\n",
              "      <td>0.733330</td>\n",
              "      <td>0.767527</td>\n",
              "      <td>0.725731</td>\n",
              "      <td>0.756128</td>\n",
              "      <td>460734400</td>\n",
              "      <td>0.0</td>\n",
              "      <td>0.0</td>\n",
              "    </tr>\n",
              "  </tbody>\n",
              "</table>\n",
              "</div>\n",
              "      <button class=\"colab-df-convert\" onclick=\"convertToInteractive('df-79eff97f-dd0b-4819-bbbf-b426726cb7dd')\"\n",
              "              title=\"Convert this dataframe to an interactive table.\"\n",
              "              style=\"display:none;\">\n",
              "        \n",
              "  <svg xmlns=\"http://www.w3.org/2000/svg\" height=\"24px\"viewBox=\"0 0 24 24\"\n",
              "       width=\"24px\">\n",
              "    <path d=\"M0 0h24v24H0V0z\" fill=\"none\"/>\n",
              "    <path d=\"M18.56 5.44l.94 2.06.94-2.06 2.06-.94-2.06-.94-.94-2.06-.94 2.06-2.06.94zm-11 1L8.5 8.5l.94-2.06 2.06-.94-2.06-.94L8.5 2.5l-.94 2.06-2.06.94zm10 10l.94 2.06.94-2.06 2.06-.94-2.06-.94-.94-2.06-.94 2.06-2.06.94z\"/><path d=\"M17.41 7.96l-1.37-1.37c-.4-.4-.92-.59-1.43-.59-.52 0-1.04.2-1.43.59L10.3 9.45l-7.72 7.72c-.78.78-.78 2.05 0 2.83L4 21.41c.39.39.9.59 1.41.59.51 0 1.02-.2 1.41-.59l7.78-7.78 2.81-2.81c.8-.78.8-2.07 0-2.86zM5.41 20L4 18.59l7.72-7.72 1.47 1.35L5.41 20z\"/>\n",
              "  </svg>\n",
              "      </button>\n",
              "      \n",
              "  <style>\n",
              "    .colab-df-container {\n",
              "      display:flex;\n",
              "      flex-wrap:wrap;\n",
              "      gap: 12px;\n",
              "    }\n",
              "\n",
              "    .colab-df-convert {\n",
              "      background-color: #E8F0FE;\n",
              "      border: none;\n",
              "      border-radius: 50%;\n",
              "      cursor: pointer;\n",
              "      display: none;\n",
              "      fill: #1967D2;\n",
              "      height: 32px;\n",
              "      padding: 0 0 0 0;\n",
              "      width: 32px;\n",
              "    }\n",
              "\n",
              "    .colab-df-convert:hover {\n",
              "      background-color: #E2EBFA;\n",
              "      box-shadow: 0px 1px 2px rgba(60, 64, 67, 0.3), 0px 1px 3px 1px rgba(60, 64, 67, 0.15);\n",
              "      fill: #174EA6;\n",
              "    }\n",
              "\n",
              "    [theme=dark] .colab-df-convert {\n",
              "      background-color: #3B4455;\n",
              "      fill: #D2E3FC;\n",
              "    }\n",
              "\n",
              "    [theme=dark] .colab-df-convert:hover {\n",
              "      background-color: #434B5C;\n",
              "      box-shadow: 0px 1px 3px 1px rgba(0, 0, 0, 0.15);\n",
              "      filter: drop-shadow(0px 1px 2px rgba(0, 0, 0, 0.3));\n",
              "      fill: #FFFFFF;\n",
              "    }\n",
              "  </style>\n",
              "\n",
              "      <script>\n",
              "        const buttonEl =\n",
              "          document.querySelector('#df-79eff97f-dd0b-4819-bbbf-b426726cb7dd button.colab-df-convert');\n",
              "        buttonEl.style.display =\n",
              "          google.colab.kernel.accessAllowed ? 'block' : 'none';\n",
              "\n",
              "        async function convertToInteractive(key) {\n",
              "          const element = document.querySelector('#df-79eff97f-dd0b-4819-bbbf-b426726cb7dd');\n",
              "          const dataTable =\n",
              "            await google.colab.kernel.invokeFunction('convertToInteractive',\n",
              "                                                     [key], {});\n",
              "          if (!dataTable) return;\n",
              "\n",
              "          const docLinkHtml = 'Like what you see? Visit the ' +\n",
              "            '<a target=\"_blank\" href=https://colab.research.google.com/notebooks/data_table.ipynb>data table notebook</a>'\n",
              "            + ' to learn more about interactive tables.';\n",
              "          element.innerHTML = '';\n",
              "          dataTable['output_type'] = 'display_data';\n",
              "          await google.colab.output.renderOutput(dataTable, element);\n",
              "          const docLink = document.createElement('div');\n",
              "          docLink.innerHTML = docLinkHtml;\n",
              "          element.appendChild(docLink);\n",
              "        }\n",
              "      </script>\n",
              "    </div>\n",
              "  </div>\n",
              "  "
            ],
            "text/plain": [
              "                               Open      High       Low     Close     Volume  \\\n",
              "Date                                                                           \n",
              "2000-01-03 00:00:00-05:00  0.796974  0.854918  0.772751  0.850644  535796800   \n",
              "2000-01-04 00:00:00-05:00  0.822621  0.840669  0.768951  0.778926  512377600   \n",
              "2000-01-05 00:00:00-05:00  0.788424  0.840194  0.782725  0.790324  778321600   \n",
              "2000-01-06 00:00:00-05:00  0.806473  0.813122  0.721930  0.721930  767972800   \n",
              "2000-01-07 00:00:00-05:00  0.733330  0.767527  0.725731  0.756128  460734400   \n",
              "\n",
              "                           Dividends  Stock Splits  \n",
              "Date                                                \n",
              "2000-01-03 00:00:00-05:00        0.0           0.0  \n",
              "2000-01-04 00:00:00-05:00        0.0           0.0  \n",
              "2000-01-05 00:00:00-05:00        0.0           0.0  \n",
              "2000-01-06 00:00:00-05:00        0.0           0.0  \n",
              "2000-01-07 00:00:00-05:00        0.0           0.0  "
            ]
          },
          "execution_count": 40,
          "metadata": {},
          "output_type": "execute_result"
        }
      ],
      "source": [
        "# obtener datos historicos de AMAZON los ultimos 30 dias\n",
        "amzn = yf.Ticker(\"amzn\")\n",
        "hist = msft.history(start=\"2000-01-01\")\n",
        "\n",
        "hist.head()"
      ]
    },
    {
      "cell_type": "code",
      "execution_count": 73,
      "metadata": {
        "colab": {
          "base_uri": "https://localhost:8080/",
          "height": 300
        },
        "id": "cxARbv9sbg1z",
        "outputId": "8e3042ac-1039-4ff8-b72a-d3ad1af5a40f"
      },
      "outputs": [
        {
          "data": {
            "text/html": [
              "\n",
              "  <div id=\"df-8ebb17f7-5bf6-4a7f-9643-632b2ed640c9\">\n",
              "    <div class=\"colab-df-container\">\n",
              "      <div>\n",
              "<style scoped>\n",
              "    .dataframe tbody tr th:only-of-type {\n",
              "        vertical-align: middle;\n",
              "    }\n",
              "\n",
              "    .dataframe tbody tr th {\n",
              "        vertical-align: top;\n",
              "    }\n",
              "\n",
              "    .dataframe thead th {\n",
              "        text-align: right;\n",
              "    }\n",
              "</style>\n",
              "<table border=\"1\" class=\"dataframe\">\n",
              "  <thead>\n",
              "    <tr style=\"text-align: right;\">\n",
              "      <th></th>\n",
              "      <th>Open</th>\n",
              "      <th>High</th>\n",
              "      <th>Low</th>\n",
              "      <th>Close</th>\n",
              "      <th>Volume</th>\n",
              "      <th>Dividends</th>\n",
              "      <th>Stock Splits</th>\n",
              "      <th>Daily Revenue</th>\n",
              "      <th>Revenue per User</th>\n",
              "      <th>MA7 Revenue per User</th>\n",
              "    </tr>\n",
              "  </thead>\n",
              "  <tbody>\n",
              "    <tr>\n",
              "      <th>count</th>\n",
              "      <td>20.000000</td>\n",
              "      <td>20.000000</td>\n",
              "      <td>20.000000</td>\n",
              "      <td>20.000000</td>\n",
              "      <td>2.000000e+01</td>\n",
              "      <td>20.0</td>\n",
              "      <td>20.0</td>\n",
              "      <td>2.000000e+01</td>\n",
              "      <td>20.000000</td>\n",
              "      <td>14.000000</td>\n",
              "    </tr>\n",
              "    <tr>\n",
              "      <th>mean</th>\n",
              "      <td>260.637000</td>\n",
              "      <td>264.376000</td>\n",
              "      <td>258.134999</td>\n",
              "      <td>261.509502</td>\n",
              "      <td>3.298124e+07</td>\n",
              "      <td>0.0</td>\n",
              "      <td>0.0</td>\n",
              "      <td>8.722408e+09</td>\n",
              "      <td>87.224083</td>\n",
              "      <td>90.392676</td>\n",
              "    </tr>\n",
              "    <tr>\n",
              "      <th>std</th>\n",
              "      <td>11.454081</td>\n",
              "      <td>11.947501</td>\n",
              "      <td>11.052829</td>\n",
              "      <td>11.828723</td>\n",
              "      <td>1.256263e+07</td>\n",
              "      <td>0.0</td>\n",
              "      <td>0.0</td>\n",
              "      <td>3.670340e+09</td>\n",
              "      <td>36.703396</td>\n",
              "      <td>27.620494</td>\n",
              "    </tr>\n",
              "    <tr>\n",
              "      <th>min</th>\n",
              "      <td>246.550003</td>\n",
              "      <td>250.929993</td>\n",
              "      <td>245.610001</td>\n",
              "      <td>246.270004</td>\n",
              "      <td>1.734020e+07</td>\n",
              "      <td>0.0</td>\n",
              "      <td>0.0</td>\n",
              "      <td>4.399209e+09</td>\n",
              "      <td>43.992087</td>\n",
              "      <td>60.750645</td>\n",
              "    </tr>\n",
              "    <tr>\n",
              "      <th>25%</th>\n",
              "      <td>251.912502</td>\n",
              "      <td>254.109997</td>\n",
              "      <td>249.224998</td>\n",
              "      <td>252.017506</td>\n",
              "      <td>2.463360e+07</td>\n",
              "      <td>0.0</td>\n",
              "      <td>0.0</td>\n",
              "      <td>6.220461e+09</td>\n",
              "      <td>62.204614</td>\n",
              "      <td>63.502785</td>\n",
              "    </tr>\n",
              "    <tr>\n",
              "      <th>50%</th>\n",
              "      <td>256.364990</td>\n",
              "      <td>259.839996</td>\n",
              "      <td>254.625000</td>\n",
              "      <td>256.079994</td>\n",
              "      <td>2.953155e+07</td>\n",
              "      <td>0.0</td>\n",
              "      <td>0.0</td>\n",
              "      <td>7.876082e+09</td>\n",
              "      <td>78.760823</td>\n",
              "      <td>82.726167</td>\n",
              "    </tr>\n",
              "    <tr>\n",
              "      <th>75%</th>\n",
              "      <td>273.769997</td>\n",
              "      <td>276.790001</td>\n",
              "      <td>269.602493</td>\n",
              "      <td>272.662506</td>\n",
              "      <td>3.530770e+07</td>\n",
              "      <td>0.0</td>\n",
              "      <td>0.0</td>\n",
              "      <td>9.663084e+09</td>\n",
              "      <td>96.630840</td>\n",
              "      <td>118.958888</td>\n",
              "    </tr>\n",
              "    <tr>\n",
              "      <th>max</th>\n",
              "      <td>278.260010</td>\n",
              "      <td>283.329987</td>\n",
              "      <td>276.320007</td>\n",
              "      <td>280.570007</td>\n",
              "      <td>6.949220e+07</td>\n",
              "      <td>0.0</td>\n",
              "      <td>0.0</td>\n",
              "      <td>1.941820e+10</td>\n",
              "      <td>194.182049</td>\n",
              "      <td>125.312069</td>\n",
              "    </tr>\n",
              "  </tbody>\n",
              "</table>\n",
              "</div>\n",
              "      <button class=\"colab-df-convert\" onclick=\"convertToInteractive('df-8ebb17f7-5bf6-4a7f-9643-632b2ed640c9')\"\n",
              "              title=\"Convert this dataframe to an interactive table.\"\n",
              "              style=\"display:none;\">\n",
              "        \n",
              "  <svg xmlns=\"http://www.w3.org/2000/svg\" height=\"24px\"viewBox=\"0 0 24 24\"\n",
              "       width=\"24px\">\n",
              "    <path d=\"M0 0h24v24H0V0z\" fill=\"none\"/>\n",
              "    <path d=\"M18.56 5.44l.94 2.06.94-2.06 2.06-.94-2.06-.94-.94-2.06-.94 2.06-2.06.94zm-11 1L8.5 8.5l.94-2.06 2.06-.94-2.06-.94L8.5 2.5l-.94 2.06-2.06.94zm10 10l.94 2.06.94-2.06 2.06-.94-2.06-.94-.94-2.06-.94 2.06-2.06.94z\"/><path d=\"M17.41 7.96l-1.37-1.37c-.4-.4-.92-.59-1.43-.59-.52 0-1.04.2-1.43.59L10.3 9.45l-7.72 7.72c-.78.78-.78 2.05 0 2.83L4 21.41c.39.39.9.59 1.41.59.51 0 1.02-.2 1.41-.59l7.78-7.78 2.81-2.81c.8-.78.8-2.07 0-2.86zM5.41 20L4 18.59l7.72-7.72 1.47 1.35L5.41 20z\"/>\n",
              "  </svg>\n",
              "      </button>\n",
              "      \n",
              "  <style>\n",
              "    .colab-df-container {\n",
              "      display:flex;\n",
              "      flex-wrap:wrap;\n",
              "      gap: 12px;\n",
              "    }\n",
              "\n",
              "    .colab-df-convert {\n",
              "      background-color: #E8F0FE;\n",
              "      border: none;\n",
              "      border-radius: 50%;\n",
              "      cursor: pointer;\n",
              "      display: none;\n",
              "      fill: #1967D2;\n",
              "      height: 32px;\n",
              "      padding: 0 0 0 0;\n",
              "      width: 32px;\n",
              "    }\n",
              "\n",
              "    .colab-df-convert:hover {\n",
              "      background-color: #E2EBFA;\n",
              "      box-shadow: 0px 1px 2px rgba(60, 64, 67, 0.3), 0px 1px 3px 1px rgba(60, 64, 67, 0.15);\n",
              "      fill: #174EA6;\n",
              "    }\n",
              "\n",
              "    [theme=dark] .colab-df-convert {\n",
              "      background-color: #3B4455;\n",
              "      fill: #D2E3FC;\n",
              "    }\n",
              "\n",
              "    [theme=dark] .colab-df-convert:hover {\n",
              "      background-color: #434B5C;\n",
              "      box-shadow: 0px 1px 3px 1px rgba(0, 0, 0, 0.15);\n",
              "      filter: drop-shadow(0px 1px 2px rgba(0, 0, 0, 0.3));\n",
              "      fill: #FFFFFF;\n",
              "    }\n",
              "  </style>\n",
              "\n",
              "      <script>\n",
              "        const buttonEl =\n",
              "          document.querySelector('#df-8ebb17f7-5bf6-4a7f-9643-632b2ed640c9 button.colab-df-convert');\n",
              "        buttonEl.style.display =\n",
              "          google.colab.kernel.accessAllowed ? 'block' : 'none';\n",
              "\n",
              "        async function convertToInteractive(key) {\n",
              "          const element = document.querySelector('#df-8ebb17f7-5bf6-4a7f-9643-632b2ed640c9');\n",
              "          const dataTable =\n",
              "            await google.colab.kernel.invokeFunction('convertToInteractive',\n",
              "                                                     [key], {});\n",
              "          if (!dataTable) return;\n",
              "\n",
              "          const docLinkHtml = 'Like what you see? Visit the ' +\n",
              "            '<a target=\"_blank\" href=https://colab.research.google.com/notebooks/data_table.ipynb>data table notebook</a>'\n",
              "            + ' to learn more about interactive tables.';\n",
              "          element.innerHTML = '';\n",
              "          dataTable['output_type'] = 'display_data';\n",
              "          await google.colab.output.renderOutput(dataTable, element);\n",
              "          const docLink = document.createElement('div');\n",
              "          docLink.innerHTML = docLinkHtml;\n",
              "          element.appendChild(docLink);\n",
              "        }\n",
              "      </script>\n",
              "    </div>\n",
              "  </div>\n",
              "  "
            ],
            "text/plain": [
              "             Open        High         Low       Close        Volume  \\\n",
              "count   20.000000   20.000000   20.000000   20.000000  2.000000e+01   \n",
              "mean   260.637000  264.376000  258.134999  261.509502  3.298124e+07   \n",
              "std     11.454081   11.947501   11.052829   11.828723  1.256263e+07   \n",
              "min    246.550003  250.929993  245.610001  246.270004  1.734020e+07   \n",
              "25%    251.912502  254.109997  249.224998  252.017506  2.463360e+07   \n",
              "50%    256.364990  259.839996  254.625000  256.079994  2.953155e+07   \n",
              "75%    273.769997  276.790001  269.602493  272.662506  3.530770e+07   \n",
              "max    278.260010  283.329987  276.320007  280.570007  6.949220e+07   \n",
              "\n",
              "       Dividends  Stock Splits  Daily Revenue  Revenue per User  \\\n",
              "count       20.0          20.0   2.000000e+01         20.000000   \n",
              "mean         0.0           0.0   8.722408e+09         87.224083   \n",
              "std          0.0           0.0   3.670340e+09         36.703396   \n",
              "min          0.0           0.0   4.399209e+09         43.992087   \n",
              "25%          0.0           0.0   6.220461e+09         62.204614   \n",
              "50%          0.0           0.0   7.876082e+09         78.760823   \n",
              "75%          0.0           0.0   9.663084e+09         96.630840   \n",
              "max          0.0           0.0   1.941820e+10        194.182049   \n",
              "\n",
              "       MA7 Revenue per User  \n",
              "count             14.000000  \n",
              "mean              90.392676  \n",
              "std               27.620494  \n",
              "min               60.750645  \n",
              "25%               63.502785  \n",
              "50%               82.726167  \n",
              "75%              118.958888  \n",
              "max              125.312069  "
            ]
          },
          "execution_count": 73,
          "metadata": {},
          "output_type": "execute_result"
        }
      ],
      "source": [
        "hist.describe()"
      ]
    },
    {
      "cell_type": "code",
      "execution_count": 41,
      "metadata": {
        "colab": {
          "base_uri": "https://localhost:8080/",
          "height": 388
        },
        "id": "qiPwfAD5edsQ",
        "outputId": "55358aea-c105-4436-f891-fd2a7ccaf787"
      },
      "outputs": [
        {
          "data": {
            "image/png": "[encoded data removed]",
            "text/plain": [
              "<Figure size 864x432 with 1 Axes>"
            ]
          },
          "metadata": {},
          "output_type": "display_data"
        }
      ],
      "source": [
        "import matplotlib.pyplot as plt\n",
        "import matplotlib.dates as mdates\n",
        "\n",
        "# Obtener datos históricos de Amazon ultimos 23 años\n",
        "amzn = yf.Ticker(\"AMZN\")\n",
        "hist = msft.history(start=\"2000-01-01\")\n",
        "\n",
        "# Configurar gráfica con Seaborn\n",
        "sns.set_style(\"darkgrid\")\n",
        "fig, ax = plt.subplots(figsize=(12, 6))\n",
        "sns.lineplot(x=hist.index, y=hist[\"Close\"], ax=ax)\n",
        "\n",
        "# Configurar formato del eje x\n",
        "date_fmt = mdates.DateFormatter('%d')\n",
        "ax.xaxis.set_major_formatter(date_fmt)\n",
        "\n",
        "# Mostrar gráfica\n",
        "plt.show()"
      ]
    },
    {
      "cell_type": "code",
      "execution_count": 42,
      "metadata": {
        "colab": {
          "base_uri": "https://localhost:8080/",
          "height": 314
        },
        "id": "CzBJFTTNepu_",
        "outputId": "88145c2c-627d-42c1-e792-b47b203d4836"
      },
      "outputs": [
        {
          "name": "stdout",
          "output_type": "stream",
          "text": [
            "\r[*********************100%***********************]  1 of 1 completed\n"
          ]
        },
        {
          "data": {
            "text/plain": [
              "<Axes: xlabel='Date'>"
            ]
          },
          "execution_count": 42,
          "metadata": {},
          "output_type": "execute_result"
        },
        {
          "data": {
            "image/png": "[encoded data removed]",
            "text/plain": [
              "<Figure size 432x288 with 1 Axes>"
            ]
          },
          "metadata": {},
          "output_type": "display_data"
        }
      ],
      "source": [
        "# visualizar ultimos movimientos 30\n",
        "import yfinance as yf\n",
        "import seaborn as sns\n",
        "\n",
        "amzn = yf.download(\"AMZN\", period=\"1mo\")\n",
        "amzn = amzn[['Open', 'High', 'Low', 'Close']]\n",
        "\n",
        "sns.set_style(\"darkgrid\")\n",
        "sns.set_palette(\"husl\")\n",
        "sns.lineplot(data=amzn)"
      ]
    },
    {
      "cell_type": "markdown",
      "metadata": {
        "id": "ZKM__nAnqqme"
      },
      "source": [
        "### KPI - volatilidad (amazon)"
      ]
    },
    {
      "cell_type": "code",
      "execution_count": 43,
      "metadata": {
        "colab": {
          "base_uri": "https://localhost:8080/"
        },
        "id": "496WPiKvpvul",
        "outputId": "fec575d4-0c98-4ff9-b8d7-7dc3d75ea39b"
      },
      "outputs": [
        {
          "name": "stdout",
          "output_type": "stream",
          "text": [
            "[*********************100%***********************]  1 of 1 completed\n",
            "[*********************100%***********************]  1 of 1 completed\n",
            "Volatilidad de las acciones de amazon en los últimos 30 días: 29.43%\n",
            "Volatilidad del índice SP500 en los últimos 30 días: 17.27%\n"
          ]
        }
      ],
      "source": [
        "# Descargar los datos históricos de amazon y el índice SP500\n",
        "AMAZON = yf.download(\"AMZN\", period=\"30d\")\n",
        "sp500 = yf.download(\"^GSPC\", period=\"30d\")\n",
        "\n",
        "# Calcular las variaciones porcentuales diarias\n",
        "AMAZON_returns = AMAZON[\"Close\"].pct_change()\n",
        "sp500_returns = sp500[\"Close\"].pct_change()\n",
        "\n",
        "# Calcular la volatilidad de las acciones de AMAZON y del índice SP500\n",
        "AMAZON_volatility = AMAZON_returns.std() * (252 ** 0.5) # 252 es el número de días de negociación en un año\n",
        "sp500_volatility = sp500_returns.std() * (252 ** 0.5)\n",
        "\n",
        "# Imprimir los resultados\n",
        "print(\"Volatilidad de las acciones de amazon en los últimos 30 días: {:.2f}%\".format(AMAZON_volatility*100))\n",
        "print(\"Volatilidad del índice SP500 en los últimos 30 días: {:.2f}%\".format(sp500_volatility*100))"
      ]
    },
    {
      "cell_type": "markdown",
      "metadata": {
        "id": "IpCSEoyo6bgM"
      },
      "source": [
        "### KPI - - Margen bruto de beneficios (amazon)"
      ]
    },
    {
      "cell_type": "code",
      "execution_count": 44,
      "metadata": {
        "colab": {
          "base_uri": "https://localhost:8080/",
          "height": 296
        },
        "id": "I8gQ1mXX6cDQ",
        "outputId": "59f1d951-ead8-4a61-f183-0e4d1157d4d8"
      },
      "outputs": [
        {
          "data": {
            "text/plain": [
              "<Axes: xlabel='Date'>"
            ]
          },
          "execution_count": 44,
          "metadata": {},
          "output_type": "execute_result"
        },
        {
          "data": {
            "image/png": "[encoded data removed]",
            "text/plain": [
              "<Figure size 432x288 with 1 Axes>"
            ]
          },
          "metadata": {},
          "output_type": "display_data"
        }
      ],
      "source": [
        "import yfinance as yf\n",
        "\n",
        "amazon = yf.Ticker(\"AMZN\")\n",
        "historical_data = amazon.history(period=\"1mo\")\n",
        "\n",
        "ingresos_totales = historical_data[\"Close\"] * historical_data[\"Volume\"]\n",
        "costo_bienes_vendidos = historical_data[\"Open\"] * historical_data[\"Volume\"]\n",
        "\n",
        "margen_beneficio_bruto = (ingresos_totales - costo_bienes_vendidos) / ingresos_totales\n",
        "\n",
        "import seaborn as sns\n",
        "\n",
        "sns.set_style(\"darkgrid\")\n",
        "sns.lineplot(x=historical_data.index, y=margen_beneficio_bruto)"
      ]
    },
    {
      "cell_type": "markdown",
      "metadata": {
        "id": "V5yvF1gE_Wp-"
      },
      "source": [
        "### KPI  - Ingresos medios por usuario (amazon)"
      ]
    },
    {
      "cell_type": "markdown",
      "metadata": {
        "id": "McRNtUfJ_gmq"
      },
      "source": [
        "Este código obtiene los datos de Amazon utilizando yfinance, calcula los ingresos diarios multiplicando el precio de cierre por el volumen, calcula los ingresos medios por usuario dividiendo los ingresos diarios por el número de usuarios y calcula la media móvil de los ingresos medios por usuario en un periodo de 7 días. Finalmente, grafica los ingresos medios por usuario y su media móvil utilizando seaborn."
      ]
    },
    {
      "cell_type": "code",
      "execution_count": 45,
      "metadata": {
        "colab": {
          "base_uri": "https://localhost:8080/",
          "height": 296
        },
        "id": "wH_Ugjzq_HSs",
        "outputId": "57e959a0-ef86-4fde-9b66-1c25b63775e2"
      },
      "outputs": [
        {
          "data": {
            "text/plain": [
              "<Axes: xlabel='Date'>"
            ]
          },
          "execution_count": 45,
          "metadata": {},
          "output_type": "execute_result"
        },
        {
          "data": {
            "image/png": "[encoded data removed]",
            "text/plain": [
              "<Figure size 432x288 with 1 Axes>"
            ]
          },
          "metadata": {},
          "output_type": "display_data"
        }
      ],
      "source": [
        "import yfinance as yf\n",
        "import pandas as pd\n",
        "import seaborn as sns\n",
        "\n",
        "# Obtener los datos de Amazon\n",
        "amzn = yf.Ticker(\"AMZN\")\n",
        "\n",
        "# Obtener los datos históricos de los últimos 30 días\n",
        "hist = amzn.history(period=\"1mo\")\n",
        "\n",
        "# Calcular los ingresos diarios\n",
        "hist['Daily Revenue'] = hist['Close'] * hist['Volume']\n",
        "\n",
        "# Obtener el número de usuarios promedio (se utiliza el valor de 100 millones como ejemplo)\n",
        "num_users = 100000000\n",
        "\n",
        "# Calcular los ingresos medios por usuario\n",
        "hist['Revenue per User'] = hist['Daily Revenue'] / num_users\n",
        "\n",
        "# Calcular la media móvil de los ingresos medios por usuario en un periodo de 7 días\n",
        "hist['MA7 Revenue per User'] = hist['Revenue per User'].rolling(window=7).mean()\n",
        "\n",
        "# Graficar los ingresos medios por usuario y su media móvil\n",
        "sns.set_style('whitegrid')\n",
        "sns.lineplot(data=hist[['Revenue per User', 'MA7 Revenue per User']])\n"
      ]
    },
    {
      "cell_type": "markdown",
      "metadata": {
        "id": "QLLn6t-nAf5e"
      },
      "source": [
        "El KPI de \"Ingresos medios por usuario\" puede ser un indicador de la prosperidad de una empresa como Amazon si muestra un aumento constante a lo largo del tiempo. Si el ingreso promedio por usuario de la empresa ha aumentado, significa que ha logrado aumentar su base de clientes, ha mejorado la satisfacción y fidelidad del cliente, y/o ha logrado aumentar los ingresos por venta. Si este KPI se mantiene constante o disminuye, podría indicar que la empresa está teniendo dificultades para atraer y retener a los clientes, o que está experimentando una disminución en los ingresos por venta. Por lo tanto, un aumento constante en los ingresos medios por usuario puede interpretarse como un resultado positivo para la empresa."
      ]
    },
    {
      "cell_type": "markdown",
      "metadata": {
        "id": "ba2DVSiR7d2T"
      },
      "source": [
        "### Microsoft historico ultimos 23 años"
      ]
    },
    {
      "cell_type": "code",
      "execution_count": 46,
      "metadata": {
        "colab": {
          "base_uri": "https://localhost:8080/",
          "height": 238
        },
        "id": "IGBy9fGP7lf4",
        "outputId": "0b24ad73-3294-47a5-bd44-5dd9640c4d04"
      },
      "outputs": [
        {
          "data": {
            "text/html": [
              "\n",
              "  <div id=\"df-e2bd2f17-843a-44a7-b15c-18a86e2eacce\">\n",
              "    <div class=\"colab-df-container\">\n",
              "      <div>\n",
              "<style scoped>\n",
              "    .dataframe tbody tr th:only-of-type {\n",
              "        vertical-align: middle;\n",
              "    }\n",
              "\n",
              "    .dataframe tbody tr th {\n",
              "        vertical-align: top;\n",
              "    }\n",
              "\n",
              "    .dataframe thead th {\n",
              "        text-align: right;\n",
              "    }\n",
              "</style>\n",
              "<table border=\"1\" class=\"dataframe\">\n",
              "  <thead>\n",
              "    <tr style=\"text-align: right;\">\n",
              "      <th></th>\n",
              "      <th>Open</th>\n",
              "      <th>High</th>\n",
              "      <th>Low</th>\n",
              "      <th>Close</th>\n",
              "      <th>Volume</th>\n",
              "      <th>Dividends</th>\n",
              "      <th>Stock Splits</th>\n",
              "    </tr>\n",
              "    <tr>\n",
              "      <th>Date</th>\n",
              "      <th></th>\n",
              "      <th></th>\n",
              "      <th></th>\n",
              "      <th></th>\n",
              "      <th></th>\n",
              "      <th></th>\n",
              "      <th></th>\n",
              "    </tr>\n",
              "  </thead>\n",
              "  <tbody>\n",
              "    <tr>\n",
              "      <th>2000-01-03 00:00:00-05:00</th>\n",
              "      <td>0.796973</td>\n",
              "      <td>0.854918</td>\n",
              "      <td>0.772751</td>\n",
              "      <td>0.850643</td>\n",
              "      <td>535796800</td>\n",
              "      <td>0.0</td>\n",
              "      <td>0.0</td>\n",
              "    </tr>\n",
              "    <tr>\n",
              "      <th>2000-01-04 00:00:00-05:00</th>\n",
              "      <td>0.822621</td>\n",
              "      <td>0.840669</td>\n",
              "      <td>0.768951</td>\n",
              "      <td>0.778926</td>\n",
              "      <td>512377600</td>\n",
              "      <td>0.0</td>\n",
              "      <td>0.0</td>\n",
              "    </tr>\n",
              "    <tr>\n",
              "      <th>2000-01-05 00:00:00-05:00</th>\n",
              "      <td>0.788424</td>\n",
              "      <td>0.840194</td>\n",
              "      <td>0.782725</td>\n",
              "      <td>0.790324</td>\n",
              "      <td>778321600</td>\n",
              "      <td>0.0</td>\n",
              "      <td>0.0</td>\n",
              "    </tr>\n",
              "    <tr>\n",
              "      <th>2000-01-06 00:00:00-05:00</th>\n",
              "      <td>0.806473</td>\n",
              "      <td>0.813122</td>\n",
              "      <td>0.721930</td>\n",
              "      <td>0.721930</td>\n",
              "      <td>767972800</td>\n",
              "      <td>0.0</td>\n",
              "      <td>0.0</td>\n",
              "    </tr>\n",
              "    <tr>\n",
              "      <th>2000-01-07 00:00:00-05:00</th>\n",
              "      <td>0.733330</td>\n",
              "      <td>0.767527</td>\n",
              "      <td>0.725731</td>\n",
              "      <td>0.756128</td>\n",
              "      <td>460734400</td>\n",
              "      <td>0.0</td>\n",
              "      <td>0.0</td>\n",
              "    </tr>\n",
              "  </tbody>\n",
              "</table>\n",
              "</div>\n",
              "      <button class=\"colab-df-convert\" onclick=\"convertToInteractive('df-e2bd2f17-843a-44a7-b15c-18a86e2eacce')\"\n",
              "              title=\"Convert this dataframe to an interactive table.\"\n",
              "              style=\"display:none;\">\n",
              "        \n",
              "  <svg xmlns=\"http://www.w3.org/2000/svg\" height=\"24px\"viewBox=\"0 0 24 24\"\n",
              "       width=\"24px\">\n",
              "    <path d=\"M0 0h24v24H0V0z\" fill=\"none\"/>\n",
              "    <path d=\"M18.56 5.44l.94 2.06.94-2.06 2.06-.94-2.06-.94-.94-2.06-.94 2.06-2.06.94zm-11 1L8.5 8.5l.94-2.06 2.06-.94-2.06-.94L8.5 2.5l-.94 2.06-2.06.94zm10 10l.94 2.06.94-2.06 2.06-.94-2.06-.94-.94-2.06-.94 2.06-2.06.94z\"/><path d=\"M17.41 7.96l-1.37-1.37c-.4-.4-.92-.59-1.43-.59-.52 0-1.04.2-1.43.59L10.3 9.45l-7.72 7.72c-.78.78-.78 2.05 0 2.83L4 21.41c.39.39.9.59 1.41.59.51 0 1.02-.2 1.41-.59l7.78-7.78 2.81-2.81c.8-.78.8-2.07 0-2.86zM5.41 20L4 18.59l7.72-7.72 1.47 1.35L5.41 20z\"/>\n",
              "  </svg>\n",
              "      </button>\n",
              "      \n",
              "  <style>\n",
              "    .colab-df-container {\n",
              "      display:flex;\n",
              "      flex-wrap:wrap;\n",
              "      gap: 12px;\n",
              "    }\n",
              "\n",
              "    .colab-df-convert {\n",
              "      background-color: #E8F0FE;\n",
              "      border: none;\n",
              "      border-radius: 50%;\n",
              "      cursor: pointer;\n",
              "      display: none;\n",
              "      fill: #1967D2;\n",
              "      height: 32px;\n",
              "      padding: 0 0 0 0;\n",
              "      width: 32px;\n",
              "    }\n",
              "\n",
              "    .colab-df-convert:hover {\n",
              "      background-color: #E2EBFA;\n",
              "      box-shadow: 0px 1px 2px rgba(60, 64, 67, 0.3), 0px 1px 3px 1px rgba(60, 64, 67, 0.15);\n",
              "      fill: #174EA6;\n",
              "    }\n",
              "\n",
              "    [theme=dark] .colab-df-convert {\n",
              "      background-color: #3B4455;\n",
              "      fill: #D2E3FC;\n",
              "    }\n",
              "\n",
              "    [theme=dark] .colab-df-convert:hover {\n",
              "      background-color: #434B5C;\n",
              "      box-shadow: 0px 1px 3px 1px rgba(0, 0, 0, 0.15);\n",
              "      filter: drop-shadow(0px 1px 2px rgba(0, 0, 0, 0.3));\n",
              "      fill: #FFFFFF;\n",
              "    }\n",
              "  </style>\n",
              "\n",
              "      <script>\n",
              "        const buttonEl =\n",
              "          document.querySelector('#df-e2bd2f17-843a-44a7-b15c-18a86e2eacce button.colab-df-convert');\n",
              "        buttonEl.style.display =\n",
              "          google.colab.kernel.accessAllowed ? 'block' : 'none';\n",
              "\n",
              "        async function convertToInteractive(key) {\n",
              "          const element = document.querySelector('#df-e2bd2f17-843a-44a7-b15c-18a86e2eacce');\n",
              "          const dataTable =\n",
              "            await google.colab.kernel.invokeFunction('convertToInteractive',\n",
              "                                                     [key], {});\n",
              "          if (!dataTable) return;\n",
              "\n",
              "          const docLinkHtml = 'Like what you see? Visit the ' +\n",
              "            '<a target=\"_blank\" href=https://colab.research.google.com/notebooks/data_table.ipynb>data table notebook</a>'\n",
              "            + ' to learn more about interactive tables.';\n",
              "          element.innerHTML = '';\n",
              "          dataTable['output_type'] = 'display_data';\n",
              "          await google.colab.output.renderOutput(dataTable, element);\n",
              "          const docLink = document.createElement('div');\n",
              "          docLink.innerHTML = docLinkHtml;\n",
              "          element.appendChild(docLink);\n",
              "        }\n",
              "      </script>\n",
              "    </div>\n",
              "  </div>\n",
              "  "
            ],
            "text/plain": [
              "                               Open      High       Low     Close     Volume  \\\n",
              "Date                                                                           \n",
              "2000-01-03 00:00:00-05:00  0.796973  0.854918  0.772751  0.850643  535796800   \n",
              "2000-01-04 00:00:00-05:00  0.822621  0.840669  0.768951  0.778926  512377600   \n",
              "2000-01-05 00:00:00-05:00  0.788424  0.840194  0.782725  0.790324  778321600   \n",
              "2000-01-06 00:00:00-05:00  0.806473  0.813122  0.721930  0.721930  767972800   \n",
              "2000-01-07 00:00:00-05:00  0.733330  0.767527  0.725731  0.756128  460734400   \n",
              "\n",
              "                           Dividends  Stock Splits  \n",
              "Date                                                \n",
              "2000-01-03 00:00:00-05:00        0.0           0.0  \n",
              "2000-01-04 00:00:00-05:00        0.0           0.0  \n",
              "2000-01-05 00:00:00-05:00        0.0           0.0  \n",
              "2000-01-06 00:00:00-05:00        0.0           0.0  \n",
              "2000-01-07 00:00:00-05:00        0.0           0.0  "
            ]
          },
          "execution_count": 46,
          "metadata": {},
          "output_type": "execute_result"
        }
      ],
      "source": [
        "# obtener datos historicos de AMAZON los ultimos 23 años\n",
        "microsoft = yf.Ticker(\"msft\")\n",
        "hist = msft.history(start=\"2000-01-01\")\n",
        "\n",
        "hist.head()"
      ]
    },
    {
      "cell_type": "code",
      "execution_count": 74,
      "metadata": {
        "colab": {
          "base_uri": "https://localhost:8080/",
          "height": 300
        },
        "id": "uSj_D1eGbk_y",
        "outputId": "06e94491-1b7d-4ac3-d77c-83ca3da9e761"
      },
      "outputs": [
        {
          "data": {
            "text/html": [
              "\n",
              "  <div id=\"df-0d9a711f-6302-49bf-a8c5-e070026bf6e7\">\n",
              "    <div class=\"colab-df-container\">\n",
              "      <div>\n",
              "<style scoped>\n",
              "    .dataframe tbody tr th:only-of-type {\n",
              "        vertical-align: middle;\n",
              "    }\n",
              "\n",
              "    .dataframe tbody tr th {\n",
              "        vertical-align: top;\n",
              "    }\n",
              "\n",
              "    .dataframe thead th {\n",
              "        text-align: right;\n",
              "    }\n",
              "</style>\n",
              "<table border=\"1\" class=\"dataframe\">\n",
              "  <thead>\n",
              "    <tr style=\"text-align: right;\">\n",
              "      <th></th>\n",
              "      <th>Open</th>\n",
              "      <th>High</th>\n",
              "      <th>Low</th>\n",
              "      <th>Close</th>\n",
              "      <th>Volume</th>\n",
              "      <th>Dividends</th>\n",
              "      <th>Stock Splits</th>\n",
              "      <th>Daily Revenue</th>\n",
              "      <th>Revenue per User</th>\n",
              "      <th>MA7 Revenue per User</th>\n",
              "    </tr>\n",
              "  </thead>\n",
              "  <tbody>\n",
              "    <tr>\n",
              "      <th>count</th>\n",
              "      <td>20.000000</td>\n",
              "      <td>20.000000</td>\n",
              "      <td>20.000000</td>\n",
              "      <td>20.000000</td>\n",
              "      <td>2.000000e+01</td>\n",
              "      <td>20.0</td>\n",
              "      <td>20.0</td>\n",
              "      <td>2.000000e+01</td>\n",
              "      <td>20.000000</td>\n",
              "      <td>14.000000</td>\n",
              "    </tr>\n",
              "    <tr>\n",
              "      <th>mean</th>\n",
              "      <td>260.637000</td>\n",
              "      <td>264.376000</td>\n",
              "      <td>258.134999</td>\n",
              "      <td>261.509502</td>\n",
              "      <td>3.298124e+07</td>\n",
              "      <td>0.0</td>\n",
              "      <td>0.0</td>\n",
              "      <td>8.722408e+09</td>\n",
              "      <td>87.224083</td>\n",
              "      <td>90.392676</td>\n",
              "    </tr>\n",
              "    <tr>\n",
              "      <th>std</th>\n",
              "      <td>11.454081</td>\n",
              "      <td>11.947501</td>\n",
              "      <td>11.052829</td>\n",
              "      <td>11.828723</td>\n",
              "      <td>1.256263e+07</td>\n",
              "      <td>0.0</td>\n",
              "      <td>0.0</td>\n",
              "      <td>3.670340e+09</td>\n",
              "      <td>36.703396</td>\n",
              "      <td>27.620494</td>\n",
              "    </tr>\n",
              "    <tr>\n",
              "      <th>min</th>\n",
              "      <td>246.550003</td>\n",
              "      <td>250.929993</td>\n",
              "      <td>245.610001</td>\n",
              "      <td>246.270004</td>\n",
              "      <td>1.734020e+07</td>\n",
              "      <td>0.0</td>\n",
              "      <td>0.0</td>\n",
              "      <td>4.399209e+09</td>\n",
              "      <td>43.992087</td>\n",
              "      <td>60.750645</td>\n",
              "    </tr>\n",
              "    <tr>\n",
              "      <th>25%</th>\n",
              "      <td>251.912502</td>\n",
              "      <td>254.109997</td>\n",
              "      <td>249.224998</td>\n",
              "      <td>252.017506</td>\n",
              "      <td>2.463360e+07</td>\n",
              "      <td>0.0</td>\n",
              "      <td>0.0</td>\n",
              "      <td>6.220461e+09</td>\n",
              "      <td>62.204614</td>\n",
              "      <td>63.502785</td>\n",
              "    </tr>\n",
              "    <tr>\n",
              "      <th>50%</th>\n",
              "      <td>256.364990</td>\n",
              "      <td>259.839996</td>\n",
              "      <td>254.625000</td>\n",
              "      <td>256.079994</td>\n",
              "      <td>2.953155e+07</td>\n",
              "      <td>0.0</td>\n",
              "      <td>0.0</td>\n",
              "      <td>7.876082e+09</td>\n",
              "      <td>78.760823</td>\n",
              "      <td>82.726167</td>\n",
              "    </tr>\n",
              "    <tr>\n",
              "      <th>75%</th>\n",
              "      <td>273.769997</td>\n",
              "      <td>276.790001</td>\n",
              "      <td>269.602493</td>\n",
              "      <td>272.662506</td>\n",
              "      <td>3.530770e+07</td>\n",
              "      <td>0.0</td>\n",
              "      <td>0.0</td>\n",
              "      <td>9.663084e+09</td>\n",
              "      <td>96.630840</td>\n",
              "      <td>118.958888</td>\n",
              "    </tr>\n",
              "    <tr>\n",
              "      <th>max</th>\n",
              "      <td>278.260010</td>\n",
              "      <td>283.329987</td>\n",
              "      <td>276.320007</td>\n",
              "      <td>280.570007</td>\n",
              "      <td>6.949220e+07</td>\n",
              "      <td>0.0</td>\n",
              "      <td>0.0</td>\n",
              "      <td>1.941820e+10</td>\n",
              "      <td>194.182049</td>\n",
              "      <td>125.312069</td>\n",
              "    </tr>\n",
              "  </tbody>\n",
              "</table>\n",
              "</div>\n",
              "      <button class=\"colab-df-convert\" onclick=\"convertToInteractive('df-0d9a711f-6302-49bf-a8c5-e070026bf6e7')\"\n",
              "              title=\"Convert this dataframe to an interactive table.\"\n",
              "              style=\"display:none;\">\n",
              "        \n",
              "  <svg xmlns=\"http://www.w3.org/2000/svg\" height=\"24px\"viewBox=\"0 0 24 24\"\n",
              "       width=\"24px\">\n",
              "    <path d=\"M0 0h24v24H0V0z\" fill=\"none\"/>\n",
              "    <path d=\"M18.56 5.44l.94 2.06.94-2.06 2.06-.94-2.06-.94-.94-2.06-.94 2.06-2.06.94zm-11 1L8.5 8.5l.94-2.06 2.06-.94-2.06-.94L8.5 2.5l-.94 2.06-2.06.94zm10 10l.94 2.06.94-2.06 2.06-.94-2.06-.94-.94-2.06-.94 2.06-2.06.94z\"/><path d=\"M17.41 7.96l-1.37-1.37c-.4-.4-.92-.59-1.43-.59-.52 0-1.04.2-1.43.59L10.3 9.45l-7.72 7.72c-.78.78-.78 2.05 0 2.83L4 21.41c.39.39.9.59 1.41.59.51 0 1.02-.2 1.41-.59l7.78-7.78 2.81-2.81c.8-.78.8-2.07 0-2.86zM5.41 20L4 18.59l7.72-7.72 1.47 1.35L5.41 20z\"/>\n",
              "  </svg>\n",
              "      </button>\n",
              "      \n",
              "  <style>\n",
              "    .colab-df-container {\n",
              "      display:flex;\n",
              "      flex-wrap:wrap;\n",
              "      gap: 12px;\n",
              "    }\n",
              "\n",
              "    .colab-df-convert {\n",
              "      background-color: #E8F0FE;\n",
              "      border: none;\n",
              "      border-radius: 50%;\n",
              "      cursor: pointer;\n",
              "      display: none;\n",
              "      fill: #1967D2;\n",
              "      height: 32px;\n",
              "      padding: 0 0 0 0;\n",
              "      width: 32px;\n",
              "    }\n",
              "\n",
              "    .colab-df-convert:hover {\n",
              "      background-color: #E2EBFA;\n",
              "      box-shadow: 0px 1px 2px rgba(60, 64, 67, 0.3), 0px 1px 3px 1px rgba(60, 64, 67, 0.15);\n",
              "      fill: #174EA6;\n",
              "    }\n",
              "\n",
              "    [theme=dark] .colab-df-convert {\n",
              "      background-color: #3B4455;\n",
              "      fill: #D2E3FC;\n",
              "    }\n",
              "\n",
              "    [theme=dark] .colab-df-convert:hover {\n",
              "      background-color: #434B5C;\n",
              "      box-shadow: 0px 1px 3px 1px rgba(0, 0, 0, 0.15);\n",
              "      filter: drop-shadow(0px 1px 2px rgba(0, 0, 0, 0.3));\n",
              "      fill: #FFFFFF;\n",
              "    }\n",
              "  </style>\n",
              "\n",
              "      <script>\n",
              "        const buttonEl =\n",
              "          document.querySelector('#df-0d9a711f-6302-49bf-a8c5-e070026bf6e7 button.colab-df-convert');\n",
              "        buttonEl.style.display =\n",
              "          google.colab.kernel.accessAllowed ? 'block' : 'none';\n",
              "\n",
              "        async function convertToInteractive(key) {\n",
              "          const element = document.querySelector('#df-0d9a711f-6302-49bf-a8c5-e070026bf6e7');\n",
              "          const dataTable =\n",
              "            await google.colab.kernel.invokeFunction('convertToInteractive',\n",
              "                                                     [key], {});\n",
              "          if (!dataTable) return;\n",
              "\n",
              "          const docLinkHtml = 'Like what you see? Visit the ' +\n",
              "            '<a target=\"_blank\" href=https://colab.research.google.com/notebooks/data_table.ipynb>data table notebook</a>'\n",
              "            + ' to learn more about interactive tables.';\n",
              "          element.innerHTML = '';\n",
              "          dataTable['output_type'] = 'display_data';\n",
              "          await google.colab.output.renderOutput(dataTable, element);\n",
              "          const docLink = document.createElement('div');\n",
              "          docLink.innerHTML = docLinkHtml;\n",
              "          element.appendChild(docLink);\n",
              "        }\n",
              "      </script>\n",
              "    </div>\n",
              "  </div>\n",
              "  "
            ],
            "text/plain": [
              "             Open        High         Low       Close        Volume  \\\n",
              "count   20.000000   20.000000   20.000000   20.000000  2.000000e+01   \n",
              "mean   260.637000  264.376000  258.134999  261.509502  3.298124e+07   \n",
              "std     11.454081   11.947501   11.052829   11.828723  1.256263e+07   \n",
              "min    246.550003  250.929993  245.610001  246.270004  1.734020e+07   \n",
              "25%    251.912502  254.109997  249.224998  252.017506  2.463360e+07   \n",
              "50%    256.364990  259.839996  254.625000  256.079994  2.953155e+07   \n",
              "75%    273.769997  276.790001  269.602493  272.662506  3.530770e+07   \n",
              "max    278.260010  283.329987  276.320007  280.570007  6.949220e+07   \n",
              "\n",
              "       Dividends  Stock Splits  Daily Revenue  Revenue per User  \\\n",
              "count       20.0          20.0   2.000000e+01         20.000000   \n",
              "mean         0.0           0.0   8.722408e+09         87.224083   \n",
              "std          0.0           0.0   3.670340e+09         36.703396   \n",
              "min          0.0           0.0   4.399209e+09         43.992087   \n",
              "25%          0.0           0.0   6.220461e+09         62.204614   \n",
              "50%          0.0           0.0   7.876082e+09         78.760823   \n",
              "75%          0.0           0.0   9.663084e+09         96.630840   \n",
              "max          0.0           0.0   1.941820e+10        194.182049   \n",
              "\n",
              "       MA7 Revenue per User  \n",
              "count             14.000000  \n",
              "mean              90.392676  \n",
              "std               27.620494  \n",
              "min               60.750645  \n",
              "25%               63.502785  \n",
              "50%               82.726167  \n",
              "75%              118.958888  \n",
              "max              125.312069  "
            ]
          },
          "execution_count": 74,
          "metadata": {},
          "output_type": "execute_result"
        }
      ],
      "source": [
        "hist.describe()"
      ]
    },
    {
      "cell_type": "code",
      "execution_count": 47,
      "metadata": {
        "colab": {
          "base_uri": "https://localhost:8080/",
          "height": 388
        },
        "id": "cna0B4S270GM",
        "outputId": "a576a43e-52d8-49b1-d921-cea609fd2989"
      },
      "outputs": [
        {
          "data": {
            "image/png": "[encoded data removed]",
            "text/plain": [
              "<Figure size 864x432 with 1 Axes>"
            ]
          },
          "metadata": {},
          "output_type": "display_data"
        }
      ],
      "source": [
        "import matplotlib.pyplot as plt\n",
        "import matplotlib.dates as mdates\n",
        "\n",
        "# Obtener datos históricos de Microsoft ultimos 23 años\n",
        "microsoft = yf.Ticker(\"msft\")\n",
        "hist = microsoft.history(start=\"2000-01-01\")\n",
        "\n",
        "# Configurar gráfica con Seaborn\n",
        "sns.set_style(\"darkgrid\")\n",
        "fig, ax = plt.subplots(figsize=(12, 6))\n",
        "sns.lineplot(x=hist.index, y=hist[\"Close\"], ax=ax)\n",
        "\n",
        "# Configurar formato del eje x\n",
        "date_fmt = mdates.DateFormatter('%d')\n",
        "ax.xaxis.set_major_formatter(date_fmt)\n",
        "\n",
        "# Mostrar gráfica\n",
        "plt.show()"
      ]
    },
    {
      "cell_type": "code",
      "execution_count": 48,
      "metadata": {
        "colab": {
          "base_uri": "https://localhost:8080/",
          "height": 317
        },
        "id": "1R5JRN0o8Icb",
        "outputId": "bbb2913f-38b8-4778-bb0f-5df2c0a48b82"
      },
      "outputs": [
        {
          "name": "stdout",
          "output_type": "stream",
          "text": [
            "\r[*********************100%***********************]  1 of 1 completed\n"
          ]
        },
        {
          "data": {
            "text/plain": [
              "<Axes: xlabel='Date'>"
            ]
          },
          "execution_count": 48,
          "metadata": {},
          "output_type": "execute_result"
        },
        {
          "data": {
            "image/png": "[encoded data removed]",
            "text/plain": [
              "<Figure size 432x288 with 1 Axes>"
            ]
          },
          "metadata": {},
          "output_type": "display_data"
        }
      ],
      "source": [
        "# ultimos movimientos 30 dias\n",
        "import yfinance as yf\n",
        "import seaborn as sns\n",
        "\n",
        "microsoft = yf.download(\"msft\", period=\"1mo\")\n",
        "microsoft = microsoft[['Open', 'High', 'Low', 'Close']]\n",
        "\n",
        "sns.set_style(\"darkgrid\")\n",
        "sns.set_palette(\"husl\")\n",
        "sns.lineplot(data=microsoft)"
      ]
    },
    {
      "cell_type": "markdown",
      "metadata": {
        "id": "o-l9XJ9Q8_1T"
      },
      "source": [
        "### KPI - volatilidad (microsoft)"
      ]
    },
    {
      "cell_type": "code",
      "execution_count": 49,
      "metadata": {
        "colab": {
          "base_uri": "https://localhost:8080/"
        },
        "id": "gcmKADCa81Nl",
        "outputId": "2d20c304-c7bf-46f5-e5ec-bb5a6f922acb"
      },
      "outputs": [
        {
          "name": "stdout",
          "output_type": "stream",
          "text": [
            "[*********************100%***********************]  1 of 1 completed\n",
            "[*********************100%***********************]  1 of 1 completed\n",
            "Volatilidad de las acciones de microsoft en los últimos 30 días: 28.06%\n",
            "Volatilidad del índice SP500 en los últimos 30 días: 17.27%\n"
          ]
        }
      ],
      "source": [
        "# Descargar los datos históricos de microsoft y el índice SP500\n",
        "microsoft = yf.download(\"msft\", period=\"30d\")\n",
        "sp500 = yf.download(\"^GSPC\", period=\"30d\")\n",
        "\n",
        "# Calcular las variaciones porcentuales diarias\n",
        "microsoft_returns = microsoft[\"Close\"].pct_change()\n",
        "sp500_returns = sp500[\"Close\"].pct_change()\n",
        "\n",
        "# Calcular la volatilidad de las acciones de microsoft y del índice SP500\n",
        "microsoft_volatility = microsoft_returns.std() * (252 ** 0.5) # 252 es el número de días de negociación en un año\n",
        "sp500_volatility = sp500_returns.std() * (252 ** 0.5)\n",
        "\n",
        "# Imprimir los resultados\n",
        "print(\"Volatilidad de las acciones de microsoft en los últimos 30 días: {:.2f}%\".format(microsoft_volatility*100))\n",
        "print(\"Volatilidad del índice SP500 en los últimos 30 días: {:.2f}%\".format(sp500_volatility*100))"
      ]
    },
    {
      "cell_type": "markdown",
      "metadata": {
        "id": "tLkp-8cu9YVc"
      },
      "source": [
        "### KPI - - Margen bruto de beneficios (microsoft)"
      ]
    },
    {
      "cell_type": "code",
      "execution_count": 50,
      "metadata": {
        "colab": {
          "base_uri": "https://localhost:8080/",
          "height": 296
        },
        "id": "bB5Ll_hV9gnP",
        "outputId": "6fcd3c6f-0576-46d5-bd7f-b5cd036549a8"
      },
      "outputs": [
        {
          "data": {
            "text/plain": [
              "<Axes: xlabel='Date'>"
            ]
          },
          "execution_count": 50,
          "metadata": {},
          "output_type": "execute_result"
        },
        {
          "data": {
            "image/png": "[encoded data removed]",
            "text/plain": [
              "<Figure size 432x288 with 1 Axes>"
            ]
          },
          "metadata": {},
          "output_type": "display_data"
        }
      ],
      "source": [
        "import yfinance as yf\n",
        "\n",
        "microsoft = yf.Ticker(\"msft\")\n",
        "historical_data = microsoft.history(period=\"1mo\")\n",
        "\n",
        "ingresos_totales = historical_data[\"Close\"] * historical_data[\"Volume\"]\n",
        "costo_bienes_vendidos = historical_data[\"Open\"] * historical_data[\"Volume\"]\n",
        "\n",
        "margen_beneficio_bruto = (ingresos_totales - costo_bienes_vendidos) / ingresos_totales\n",
        "\n",
        "import seaborn as sns\n",
        "\n",
        "sns.set_style(\"darkgrid\")\n",
        "sns.lineplot(x=historical_data.index, y=margen_beneficio_bruto)"
      ]
    },
    {
      "cell_type": "markdown",
      "metadata": {
        "id": "wrEfho4BCvKY"
      },
      "source": [
        "### KPI - Ingresos medios por usuarios (Microsoft)"
      ]
    },
    {
      "cell_type": "code",
      "execution_count": 51,
      "metadata": {
        "colab": {
          "base_uri": "https://localhost:8080/",
          "height": 298
        },
        "id": "AECnpVcXC0xI",
        "outputId": "68e6b8bc-a0b9-4f12-9477-a94fb734af5c"
      },
      "outputs": [
        {
          "data": {
            "text/plain": [
              "<Axes: xlabel='Date'>"
            ]
          },
          "execution_count": 51,
          "metadata": {},
          "output_type": "execute_result"
        },
        {
          "data": {
            "image/png": "[encoded data removed]",
            "text/plain": [
              "<Figure size 432x288 with 1 Axes>"
            ]
          },
          "metadata": {},
          "output_type": "display_data"
        }
      ],
      "source": [
        "import yfinance as yf\n",
        "import pandas as pd\n",
        "import seaborn as sns\n",
        "\n",
        "# Obtener los datos de Microsoft\n",
        "microsoft = yf.Ticker(\"msft\")\n",
        "\n",
        "# Obtener los datos históricos de los últimos 30 días\n",
        "hist = microsoft.history(period=\"1mo\")\n",
        "\n",
        "# Calcular los ingresos diarios\n",
        "hist['Daily Revenue'] = hist['Close'] * hist['Volume']\n",
        "\n",
        "# Obtener el número de usuarios promedio (se utiliza el valor de 100 millones como ejemplo)\n",
        "num_users = 100000000\n",
        "\n",
        "# Calcular los ingresos medios por usuario\n",
        "hist['Revenue per User'] = hist['Daily Revenue'] / num_users\n",
        "\n",
        "# Calcular la media móvil de los ingresos medios por usuario en un periodo de 7 días\n",
        "hist['MA7 Revenue per User'] = hist['Revenue per User'].rolling(window=7).mean()\n",
        "\n",
        "# Graficar los ingresos medios por usuario y su media móvil\n",
        "sns.set_style('whitegrid')\n",
        "sns.lineplot(data=hist[['Revenue per User', 'MA7 Revenue per User']])\n"
      ]
    },
    {
      "cell_type": "markdown",
      "metadata": {
        "id": "hD31PZ0SC3Gf"
      },
      "source": [
        "El KPI de \"Ingresos medios por usuario\" puede ser un indicador de la prosperidad de una empresa como Amazon si muestra un aumento constante a lo largo del tiempo. Si el ingreso promedio por usuario de la empresa ha aumentado, significa que ha logrado aumentar su base de clientes, ha mejorado la satisfacción y fidelidad del cliente, y/o ha logrado aumentar los ingresos por venta. Si este KPI se mantiene constante o disminuye, podría indicar que la empresa está teniendo dificultades para atraer y retener a los clientes, o que está experimentando una disminución en los ingresos por venta. Por lo tanto, un aumento constante en los ingresos medios por usuario puede interpretarse como un resultado positivo para la empresa."
      ]
    },
    {
      "cell_type": "code",
      "execution_count": 52,
      "metadata": {
        "colab": {
          "base_uri": "https://localhost:8080/",
          "height": 365
        },
        "id": "ndMpUPBj5N1O",
        "outputId": "9a1be58f-9ae7-4b98-81cb-e518625b4501"
      },
      "outputs": [
        {
          "name": "stdout",
          "output_type": "stream",
          "text": [
            "[*********************100%***********************]  4 of 4 completed\n"
          ]
        },
        {
          "data": {
            "text/plain": [
              "<Figure size 720x360 with 0 Axes>"
            ]
          },
          "metadata": {},
          "output_type": "display_data"
        },
        {
          "data": {
            "image/png": "[encoded data removed]",
            "text/plain": [
              "<Figure size 432x288 with 1 Axes>"
            ]
          },
          "metadata": {},
          "output_type": "display_data"
        }
      ],
      "source": []
    }
  ],
  "metadata": {
    "colab": {
      "provenance": []
    },
    "kernelspec": {
      "display_name": "Python 3",
      "name": "python3"
    },
    "language_info": {
      "name": "python",
      "version": "3.11.2"
    }
  },
  "nbformat": 4,
  "nbformat_minor": 0
}

{
  "cells": [
    {
      "cell_type": "markdown",
      "metadata": {
        "id": "SGluqJg_6a3B"
      },
      "source": [
        "$$\n",
        "AnalisisCrecimiento\n",
        "$$"
      ]
    },
    {
      "cell_type": "markdown",
      "metadata": {
        "id": "pPmewQs-LGG6"
      },
      "source": [
        "KPI - (CAGR) tasa de crecimiento anual compuesta"
      ]
    },
    {
      "cell_type": "code",
      "execution_count": 29,
      "metadata": {
        "colab": {
          "base_uri": "https://localhost:8080/"
        },
        "id": "qzFBvWC4K9mQ",
        "outputId": "fd490846-56d3-4726-e01e-8996cd71e26c"
      },
      "outputs": [
        {
          "name": "stdout",
          "output_type": "stream",
          "text": [
            "El CAGR de Apple desde el año 2000 es 25.34%\n"
          ]
        }
      ],
      "source": [
        "# Medir el crecimiento de la empresa con los datos históricos\n",
        "# de precios de cierre ajustados de las acciones desde el año 2000 hasta la fecha actual y luego calcular la tasa de crecimiento anual compuesta\n",
        "import yfinance as yf\n",
        "import numpy as np\n",
        "\n",
        "# Obtener los datos históricos de precios de cierre ajustados de Apple desde el año 2000\n",
        "aapl = yf.Ticker(\"AAPL\")\n",
        "data = aapl.history(start=\"2000-01-01\")\n",
        "\n",
        "# Calcular el CAGR de Apple desde el año 2000\n",
        "start_price = data[\"Close\"][0]\n",
        "end_price = data[\"Close\"][-1]\n",
        "num_years = len(data) / 252  # asumiendo 252 días de negociación por año\n",
        "cagr = (end_price / start_price) ** (1/num_years) - 1\n",
        "\n",
        "print(f\"El CAGR de Apple desde el año 2000 es {cagr:.2%}\")\n"
      ]
    },
    {
      "cell_type": "code",
      "execution_count": 30,
      "metadata": {
        "colab": {
          "base_uri": "https://localhost:8080/"
        },
        "id": "RyPDlm8nMB-i",
        "outputId": "e25dc73a-f96b-469b-9e1f-b3aa0b4df6a1"
      },
      "outputs": [
        {
          "name": "stdout",
          "output_type": "stream",
          "text": [
            "El CAGR de Google desde el año 2000 es 22.28%\n"
          ]
        }
      ],
      "source": [
        "import yfinance as yf\n",
        "import numpy as np\n",
        "\n",
        "# Obtener los datos históricos de precios de cierre ajustados de GOOGLE desde el año 2000\n",
        "google = yf.Ticker(\"GOOGL\")\n",
        "data = google.history(start=\"2000-01-01\")\n",
        "\n",
        "# Calcular el CAGR de Apple desde el año 2000\n",
        "start_price = data[\"Close\"][0]\n",
        "end_price = data[\"Close\"][-1]\n",
        "num_years = len(data) / 252  # asumiendo 252 días de negociación por año\n",
        "cagr = (end_price / start_price) ** (1/num_years) - 1\n",
        "\n",
        "print(f\"El CAGR de Google desde el año 2000 es {cagr:.2%}\")"
      ]
    },
    {
      "cell_type": "code",
      "execution_count": 31,
      "metadata": {
        "colab": {
          "base_uri": "https://localhost:8080/"
        },
        "id": "pS4576YpMyt-",
        "outputId": "bbeb052e-7703-4502-9bee-e5376dba851f"
      },
      "outputs": [
        {
          "name": "stdout",
          "output_type": "stream",
          "text": [
            "El CAGR de Microsoft desde el año 2000 es 9.21%\n"
          ]
        }
      ],
      "source": [
        "import yfinance as yf\n",
        "import numpy as np\n",
        "\n",
        "# Obtener los datos históricos de precios de cierre ajustados de Microsoft desde el año 2000\n",
        "MSFT = yf.Ticker(\"MSFT\")\n",
        "data = MSFT.history(start=\"2000-01-01\")\n",
        "\n",
        "# Calcular el CAGR de Microsoft desde el año 2000\n",
        "start_price = data[\"Close\"][0]\n",
        "end_price = data[\"Close\"][-1]\n",
        "num_years = len(data) / 252  # asumiendo 252 días de negociación por año\n",
        "cagr = (end_price / start_price) ** (1/num_years) - 1\n",
        "\n",
        "print(f\"El CAGR de Microsoft desde el año 2000 es {cagr:.2%}\")"
      ]
    },
    {
      "cell_type": "code",
      "execution_count": 32,
      "metadata": {
        "colab": {
          "base_uri": "https://localhost:8080/"
        },
        "id": "jEoKkQElNcus",
        "outputId": "2f11c079-8f52-4fb2-b055-50f58bbb5f3e"
      },
      "outputs": [
        {
          "name": "stdout",
          "output_type": "stream",
          "text": [
            "El CAGR de Amazon desde el año 2000 es 14.25%\n"
          ]
        }
      ],
      "source": [
        "import yfinance as yf\n",
        "import numpy as np\n",
        "\n",
        "# Obtener los datos históricos de precios de cierre ajustados de Amazon desde el año 2000\n",
        "amzn = yf.Ticker(\"AMZN\")\n",
        "data = amzn.history(start=\"2000-01-01\")\n",
        "\n",
        "# Calcular el CAGR de Amazon desde el año 2000\n",
        "start_price = data[\"Close\"][0]\n",
        "end_price = data[\"Close\"][-1]\n",
        "num_years = len(data) / 252  # asumiendo 252 días de negociación por año\n",
        "cagr = (end_price / start_price) ** (1/num_years) - 1\n",
        "\n",
        "print(f\"El CAGR de Amazon desde el año 2000 es {cagr:.2%}\")"
      ]
    },
    {
      "cell_type": "code",
      "execution_count": 33,
      "metadata": {
        "colab": {
          "base_uri": "https://localhost:8080/"
        },
        "id": "TfP1uaoAKL6S",
        "outputId": "b17ae725-ea6e-4628-9ff6-a3c270f29ddf"
      },
      "outputs": [
        {
          "name": "stdout",
          "output_type": "stream",
          "text": [
            "[*********************100%***********************]  1 of 1 completed\n",
            "[*********************100%***********************]  1 of 1 completed\n",
            "[*********************100%***********************]  1 of 1 completed\n",
            "[*********************100%***********************]  1 of 1 completed\n"
          ]
        }
      ],
      "source": [
        "import yfinance as yf\n",
        "\n",
        "# Descargar datos de las acciones\n",
        "apple = yf.download(\"AAPL\", start=\"2000-01-01\")\n",
        "google = yf.download(\"GOOGL\", start=\"2000-01-01\")\n",
        "microsoft = yf.download(\"MSFT\", start=\"2000-01-01\")\n",
        "amazon = yf.download(\"AMZN\", start=\"2000-01-01\")\n"
      ]
    },
    {
      "cell_type": "markdown",
      "metadata": {
        "id": "3nOGCnJ4KfZ8"
      },
      "source": [
        "Este código calculará la desviación estándar de los precios de cierre de las acciones de Apple, Google, Microsoft y Amazon y creará un gráfico de barras utilizando seaborn para mostrar los resultados. La desviación estándar es una medida de la variabilidad de los precios de las acciones, por lo que esta gráfica nos permitirá comparar la estabilidad de las diferentes empresas en el período de tiempo que hemos seleccionado."
      ]
    },
    {
      "cell_type": "code",
      "execution_count": 34,
      "metadata": {
        "colab": {
          "base_uri": "https://localhost:8080/",
          "height": 297
        },
        "id": "oh6eJpqiJqCX",
        "outputId": "314177ca-ae17-436d-8f41-dcd30515015a"
      },
      "outputs": [
        {
          "data": {
            "text/plain": [
              "<Axes: xlabel='Empresa', ylabel='Desviación estándar'>"
            ]
          },
          "execution_count": 34,
          "metadata": {},
          "output_type": "execute_result"
        },
        {
          "data": {
            "image/png": "[encoded data removed]",
            "text/plain": [
              "<Figure size 432x288 with 1 Axes>"
            ]
          },
          "metadata": {
            "needs_background": "light"
          },
          "output_type": "display_data"
        }
      ],
      "source": [
        "import pandas as pd\n",
        "import seaborn as sns\n",
        "\n",
        "# Calcular la desviación estándar de los precios de cierre\n",
        "apple_std = pd.Series(apple['Close']).std()\n",
        "google_std = pd.Series(google['Close']).std()\n",
        "microsoft_std = pd.Series(microsoft['Close']).std()\n",
        "amazon_std = pd.Series(amazon['Close']).std()\n",
        "\n",
        "# Crear un DataFrame con los resultados\n",
        "data = {'Empresa': ['Apple', 'Google', 'Microsoft', 'Amazon'],\n",
        "        'Desviación estándar': [apple_std, google_std, microsoft_std, amazon_std]}\n",
        "df = pd.DataFrame(data)\n",
        "\n",
        "# Graficar los resultados\n",
        "sns.barplot(x='Empresa', y='Desviación estándar', data=df)\n"
      ]
    },
    {
      "cell_type": "code",
      "execution_count": 35,
      "metadata": {
        "colab": {
          "base_uri": "https://localhost:8080/",
          "height": 365
        },
        "id": "RX5_uikLKVIp",
        "outputId": "8134f911-df5e-40ed-8593-a69b7a22f272"
      },
      "outputs": [
        {
          "name": "stdout",
          "output_type": "stream",
          "text": [
            "[*********************100%***********************]  4 of 4 completed\n"
          ]
        },
        {
          "data": {
            "text/plain": [
              "<Figure size 720x360 with 0 Axes>"
            ]
          },
          "metadata": {},
          "output_type": "display_data"
        },
        {
          "data": {
            "image/png": "[encoded data removed]",
            "text/plain": [
              "<Figure size 432x288 with 1 Axes>"
            ]
          },
          "metadata": {
            "needs_background": "light"
          },
          "output_type": "display_data"
        }
      ],
      "source": [
        "import yfinance as yf\n",
        "import pandas as pd\n",
        "import matplotlib.pyplot as plt\n",
        "from datetime import datetime, timedelta\n",
        "\n",
        "# Definir el símbolo de la empresa que se desea extraer\n",
        "symbols = ['AAPL', 'MSFT', 'AMZN', 'googl']\n",
        "\n",
        "# Definir la fecha de inicio (hace 30 días)\n",
        "start_date = (datetime.now() - timedelta(days=30)).strftime(\"%Y-%m-%d\")\n",
        "\n",
        "# Extraer los datos de la empresa utilizando yfinance\n",
        "data = yf.download(symbols, start=start_date, end=datetime.now().strftime(\"%Y-%m-%d\"))\n",
        "\n",
        "# Seleccionar solo los precios de cierre ajustados\n",
        "adj_close = data['Adj Close']\n",
        "\n",
        "# Configurar el tamaño del gráfico\n",
        "plt.figure(figsize=(10, 5))\n",
        "\n",
        "# Graficar los precios de cierre ajustados\n",
        "adj_close.plot()\n",
        "\n",
        "# Configurar el título y las etiquetas de los ejes\n",
        "plt.title('Precios de cierre ajustados (últimos 30 días)')\n",
        "plt.xlabel('Fecha')\n",
        "plt.ylabel('Precio de cierre ajustado')\n",
        "\n",
        "# Mostrar la gráfica\n",
        "plt.show()\n"
      ]
    }
  ],
  "metadata": {
    "colab": {
      "provenance": []
    },
    "kernelspec": {
      "display_name": "Python 3",
      "name": "python3"
    },
    "language_info": {
      "name": "python",
      "version": "3.11.2"
    }
  },
  "nbformat": 4,
  "nbformat_minor": 0
}
